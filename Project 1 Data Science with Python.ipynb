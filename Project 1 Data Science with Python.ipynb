{
 "cells": [
  {
   "cell_type": "markdown",
   "id": "fb582a80",
   "metadata": {},
   "source": [
    "# Project 1 - Customer Service Requests Analysis"
   ]
  },
  {
   "cell_type": "markdown",
   "id": "bac0ce3f",
   "metadata": {},
   "source": [
    "    Ask:1. Perform data analysis of service request (311) calls from New York City\n",
    "\n",
    "        2. Utilize data wrangling techniques to understand the pattern in the data\n",
    "        \n",
    "        3. Visualize the major types of complaints"
   ]
  },
  {
   "cell_type": "markdown",
   "id": "c776ece8",
   "metadata": {},
   "source": [
    "## 1. Understanding Dataset"
   ]
  },
  {
   "cell_type": "code",
   "execution_count": 1,
   "id": "18b446f3",
   "metadata": {},
   "outputs": [],
   "source": [
    "#Import all the packages at once rather than importing as and when required going thorugh in Project requirment.\n",
    "\n",
    "import pandas as pd\n",
    "import math as m\n",
    "import numpy as np\n",
    "import matplotlib.pyplot as plt\n",
    "import seaborn as sns"
   ]
  },
  {
   "cell_type": "markdown",
   "id": "e168283b",
   "metadata": {},
   "source": [
    "Step 1: File Downloaded from LMS and saved in local drive"
   ]
  },
  {
   "cell_type": "markdown",
   "id": "e145cdc6",
   "metadata": {},
   "source": [
    "Step 2: File - 311_Service_Requests_from_2010_to_Present.csv extracted and uploaded"
   ]
  },
  {
   "cell_type": "code",
   "execution_count": 2,
   "id": "dc3ef44d",
   "metadata": {},
   "outputs": [],
   "source": [
    "service_request_df = pd.read_csv(r\"C:\\Users\\Abhishek\\OneDrive\\Documents\\Data Scientist\\Class Notes\\Python\\Datasets - LMS\\Project_Two_Dataset\\311_Service_Requests_from_2010_to_Present.csv\",low_memory=False)"
   ]
  },
  {
   "cell_type": "markdown",
   "id": "1ab50835",
   "metadata": {},
   "source": [
    "1.1 Identify the shape of the dataset"
   ]
  },
  {
   "cell_type": "code",
   "execution_count": 3,
   "id": "bfc704ea",
   "metadata": {},
   "outputs": [
    {
     "data": {
      "text/plain": [
       "(364558, 53)"
      ]
     },
     "execution_count": 3,
     "metadata": {},
     "output_type": "execute_result"
    }
   ],
   "source": [
    "# Identifying dataset shape\n",
    "\n",
    "service_request_df.shape"
   ]
  },
  {
   "cell_type": "markdown",
   "id": "dc041559",
   "metadata": {},
   "source": [
    "1.2 Identify variables with null values"
   ]
  },
  {
   "cell_type": "code",
   "execution_count": 4,
   "id": "86cc062f",
   "metadata": {},
   "outputs": [
    {
     "name": "stdout",
     "output_type": "stream",
     "text": [
      "<class 'pandas.core.frame.DataFrame'>\n",
      "RangeIndex: 364558 entries, 0 to 364557\n",
      "Data columns (total 53 columns):\n",
      " #   Column                          Non-Null Count   Dtype  \n",
      "---  ------                          --------------   -----  \n",
      " 0   Unique Key                      364558 non-null  int64  \n",
      " 1   Created Date                    364558 non-null  object \n",
      " 2   Closed Date                     362177 non-null  object \n",
      " 3   Agency                          364558 non-null  object \n",
      " 4   Agency Name                     364558 non-null  object \n",
      " 5   Complaint Type                  364558 non-null  object \n",
      " 6   Descriptor                      358057 non-null  object \n",
      " 7   Location Type                   364425 non-null  object \n",
      " 8   Incident Zip                    361560 non-null  float64\n",
      " 9   Incident Address                312859 non-null  object \n",
      " 10  Street Name                     312859 non-null  object \n",
      " 11  Cross Street 1                  307370 non-null  object \n",
      " 12  Cross Street 2                  306753 non-null  object \n",
      " 13  Intersection Street 1           51120 non-null   object \n",
      " 14  Intersection Street 2           50512 non-null   object \n",
      " 15  Address Type                    361306 non-null  object \n",
      " 16  City                            361561 non-null  object \n",
      " 17  Landmark                        375 non-null     object \n",
      " 18  Facility Type                   362169 non-null  object \n",
      " 19  Status                          364558 non-null  object \n",
      " 20  Due Date                        364555 non-null  object \n",
      " 21  Resolution Description          364558 non-null  object \n",
      " 22  Resolution Action Updated Date  362156 non-null  object \n",
      " 23  Community Board                 364558 non-null  object \n",
      " 24  Borough                         364558 non-null  object \n",
      " 25  X Coordinate (State Plane)      360528 non-null  float64\n",
      " 26  Y Coordinate (State Plane)      360528 non-null  float64\n",
      " 27  Park Facility Name              364558 non-null  object \n",
      " 28  Park Borough                    364558 non-null  object \n",
      " 29  School Name                     364558 non-null  object \n",
      " 30  School Number                   364558 non-null  object \n",
      " 31  School Region                   364557 non-null  object \n",
      " 32  School Code                     364557 non-null  object \n",
      " 33  School Phone Number             364558 non-null  object \n",
      " 34  School Address                  364558 non-null  object \n",
      " 35  School City                     364558 non-null  object \n",
      " 36  School State                    364558 non-null  object \n",
      " 37  School Zip                      364557 non-null  object \n",
      " 38  School Not Found                364558 non-null  object \n",
      " 39  School or Citywide Complaint    0 non-null       float64\n",
      " 40  Vehicle Type                    0 non-null       float64\n",
      " 41  Taxi Company Borough            0 non-null       float64\n",
      " 42  Taxi Pick Up Location           0 non-null       float64\n",
      " 43  Bridge Highway Name             297 non-null     object \n",
      " 44  Bridge Highway Direction        297 non-null     object \n",
      " 45  Road Ramp                       262 non-null     object \n",
      " 46  Bridge Highway Segment          262 non-null     object \n",
      " 47  Garage Lot Name                 0 non-null       float64\n",
      " 48  Ferry Direction                 1 non-null       object \n",
      " 49  Ferry Terminal Name             2 non-null       object \n",
      " 50  Latitude                        360528 non-null  float64\n",
      " 51  Longitude                       360528 non-null  float64\n",
      " 52  Location                        360528 non-null  object \n",
      "dtypes: float64(10), int64(1), object(42)\n",
      "memory usage: 147.4+ MB\n"
     ]
    }
   ],
   "source": [
    "# Identifying null values\n",
    "\n",
    "service_request_df.info()"
   ]
  },
  {
   "cell_type": "markdown",
   "id": "2e539123",
   "metadata": {},
   "source": [
    "## 2. Perform basic data exploratory analysis"
   ]
  },
  {
   "cell_type": "markdown",
   "id": "d1be3722",
   "metadata": {},
   "source": [
    "2.1 Utilize missing value treatment"
   ]
  },
  {
   "cell_type": "code",
   "execution_count": 5,
   "id": "0bb3e0fa",
   "metadata": {
    "scrolled": true
   },
   "outputs": [
    {
     "data": {
      "text/plain": [
       "Unique Key                             0\n",
       "Created Date                           0\n",
       "Closed Date                         2381\n",
       "Agency                                 0\n",
       "Agency Name                            0\n",
       "Complaint Type                         0\n",
       "Descriptor                          6501\n",
       "Location Type                        133\n",
       "Incident Zip                        2998\n",
       "Incident Address                   51699\n",
       "Street Name                        51699\n",
       "Cross Street 1                     57188\n",
       "Cross Street 2                     57805\n",
       "Intersection Street 1             313438\n",
       "Intersection Street 2             314046\n",
       "Address Type                        3252\n",
       "City                                2997\n",
       "Landmark                          364183\n",
       "Facility Type                       2389\n",
       "Status                                 0\n",
       "Due Date                               3\n",
       "Resolution Description                 0\n",
       "Resolution Action Updated Date      2402\n",
       "Community Board                        0\n",
       "Borough                                0\n",
       "X Coordinate (State Plane)          4030\n",
       "Y Coordinate (State Plane)          4030\n",
       "Park Facility Name                     0\n",
       "Park Borough                           0\n",
       "School Name                            0\n",
       "School Number                          0\n",
       "School Region                          1\n",
       "School Code                            1\n",
       "School Phone Number                    0\n",
       "School Address                         0\n",
       "School City                            0\n",
       "School State                           0\n",
       "School Zip                             1\n",
       "School Not Found                       0\n",
       "School or Citywide Complaint      364558\n",
       "Vehicle Type                      364558\n",
       "Taxi Company Borough              364558\n",
       "Taxi Pick Up Location             364558\n",
       "Bridge Highway Name               364261\n",
       "Bridge Highway Direction          364261\n",
       "Road Ramp                         364296\n",
       "Bridge Highway Segment            364296\n",
       "Garage Lot Name                   364558\n",
       "Ferry Direction                   364557\n",
       "Ferry Terminal Name               364556\n",
       "Latitude                            4030\n",
       "Longitude                           4030\n",
       "Location                            4030\n",
       "dtype: int64"
      ]
     },
     "execution_count": 5,
     "metadata": {},
     "output_type": "execute_result"
    }
   ],
   "source": [
    "# Putting Sum to all null values in dataset\n",
    "\n",
    "service_request_df.isnull().sum()"
   ]
  },
  {
   "cell_type": "code",
   "execution_count": 6,
   "id": "ee17e1e1",
   "metadata": {},
   "outputs": [],
   "source": [
    "# Updating one of the columns \"Descriptor\" to \"no info\"\n",
    "\n",
    "service_request_df['Descriptor'].fillna(value=service_request_df['Descriptor'].mode(),inplace=True)"
   ]
  },
  {
   "cell_type": "code",
   "execution_count": 7,
   "id": "8b4966ae",
   "metadata": {},
   "outputs": [
    {
     "data": {
      "text/plain": [
       "6501"
      ]
     },
     "execution_count": 7,
     "metadata": {},
     "output_type": "execute_result"
    }
   ],
   "source": [
    "service_request_df['Descriptor'].isnull().sum()"
   ]
  },
  {
   "cell_type": "code",
   "execution_count": 8,
   "id": "6aa73307",
   "metadata": {},
   "outputs": [],
   "source": [
    "service_request_df['Descriptor'].fillna(value='no info',inplace=True)"
   ]
  },
  {
   "cell_type": "code",
   "execution_count": 9,
   "id": "b44d6491",
   "metadata": {},
   "outputs": [
    {
     "data": {
      "text/plain": [
       "0"
      ]
     },
     "execution_count": 9,
     "metadata": {},
     "output_type": "execute_result"
    }
   ],
   "source": [
    "service_request_df['Descriptor'].isnull().sum()"
   ]
  },
  {
   "cell_type": "code",
   "execution_count": 10,
   "id": "f39fe528",
   "metadata": {},
   "outputs": [
    {
     "data": {
      "text/plain": [
       "Unique Key                             0\n",
       "Created Date                           0\n",
       "Closed Date                         2381\n",
       "Agency                                 0\n",
       "Agency Name                            0\n",
       "Complaint Type                         0\n",
       "Descriptor                             0\n",
       "Location Type                        133\n",
       "Incident Zip                        2998\n",
       "Incident Address                   51699\n",
       "Street Name                        51699\n",
       "Cross Street 1                     57188\n",
       "Cross Street 2                     57805\n",
       "Intersection Street 1             313438\n",
       "Intersection Street 2             314046\n",
       "Address Type                        3252\n",
       "City                                2997\n",
       "Landmark                          364183\n",
       "Facility Type                       2389\n",
       "Status                                 0\n",
       "Due Date                               3\n",
       "Resolution Description                 0\n",
       "Resolution Action Updated Date      2402\n",
       "Community Board                        0\n",
       "Borough                                0\n",
       "X Coordinate (State Plane)          4030\n",
       "Y Coordinate (State Plane)          4030\n",
       "Park Facility Name                     0\n",
       "Park Borough                           0\n",
       "School Name                            0\n",
       "School Number                          0\n",
       "School Region                          1\n",
       "School Code                            1\n",
       "School Phone Number                    0\n",
       "School Address                         0\n",
       "School City                            0\n",
       "School State                           0\n",
       "School Zip                             1\n",
       "School Not Found                       0\n",
       "School or Citywide Complaint      364558\n",
       "Vehicle Type                      364558\n",
       "Taxi Company Borough              364558\n",
       "Taxi Pick Up Location             364558\n",
       "Bridge Highway Name               364261\n",
       "Bridge Highway Direction          364261\n",
       "Road Ramp                         364296\n",
       "Bridge Highway Segment            364296\n",
       "Garage Lot Name                   364558\n",
       "Ferry Direction                   364557\n",
       "Ferry Terminal Name               364556\n",
       "Latitude                            4030\n",
       "Longitude                           4030\n",
       "Location                            4030\n",
       "dtype: int64"
      ]
     },
     "execution_count": 10,
     "metadata": {},
     "output_type": "execute_result"
    }
   ],
   "source": [
    "# Validating if the blank cells or null values has been updated. the result states \"yes\"\n",
    "\n",
    "service_request_df.isnull().sum()"
   ]
  },
  {
   "cell_type": "code",
   "execution_count": 11,
   "id": "763a67f2",
   "metadata": {},
   "outputs": [],
   "source": [
    "# There are 5 columns which are completely blank and are being drop out of DF using \"dropna\"\n",
    "\n",
    "service_request_df.dropna(axis=1,how='all',inplace= True)"
   ]
  },
  {
   "cell_type": "code",
   "execution_count": 12,
   "id": "58b79a61",
   "metadata": {},
   "outputs": [
    {
     "data": {
      "text/plain": [
       "(364558, 48)"
      ]
     },
     "execution_count": 12,
     "metadata": {},
     "output_type": "execute_result"
    }
   ],
   "source": [
    "service_request_df.shape"
   ]
  },
  {
   "cell_type": "code",
   "execution_count": 13,
   "id": "8953b152",
   "metadata": {},
   "outputs": [
    {
     "name": "stdout",
     "output_type": "stream",
     "text": [
      "<class 'pandas.core.frame.DataFrame'>\n",
      "RangeIndex: 364558 entries, 0 to 364557\n",
      "Data columns (total 48 columns):\n",
      " #   Column                          Non-Null Count   Dtype  \n",
      "---  ------                          --------------   -----  \n",
      " 0   Unique Key                      364558 non-null  int64  \n",
      " 1   Created Date                    364558 non-null  object \n",
      " 2   Closed Date                     362177 non-null  object \n",
      " 3   Agency                          364558 non-null  object \n",
      " 4   Agency Name                     364558 non-null  object \n",
      " 5   Complaint Type                  364558 non-null  object \n",
      " 6   Descriptor                      364558 non-null  object \n",
      " 7   Location Type                   364425 non-null  object \n",
      " 8   Incident Zip                    361560 non-null  float64\n",
      " 9   Incident Address                312859 non-null  object \n",
      " 10  Street Name                     312859 non-null  object \n",
      " 11  Cross Street 1                  307370 non-null  object \n",
      " 12  Cross Street 2                  306753 non-null  object \n",
      " 13  Intersection Street 1           51120 non-null   object \n",
      " 14  Intersection Street 2           50512 non-null   object \n",
      " 15  Address Type                    361306 non-null  object \n",
      " 16  City                            361561 non-null  object \n",
      " 17  Landmark                        375 non-null     object \n",
      " 18  Facility Type                   362169 non-null  object \n",
      " 19  Status                          364558 non-null  object \n",
      " 20  Due Date                        364555 non-null  object \n",
      " 21  Resolution Description          364558 non-null  object \n",
      " 22  Resolution Action Updated Date  362156 non-null  object \n",
      " 23  Community Board                 364558 non-null  object \n",
      " 24  Borough                         364558 non-null  object \n",
      " 25  X Coordinate (State Plane)      360528 non-null  float64\n",
      " 26  Y Coordinate (State Plane)      360528 non-null  float64\n",
      " 27  Park Facility Name              364558 non-null  object \n",
      " 28  Park Borough                    364558 non-null  object \n",
      " 29  School Name                     364558 non-null  object \n",
      " 30  School Number                   364558 non-null  object \n",
      " 31  School Region                   364557 non-null  object \n",
      " 32  School Code                     364557 non-null  object \n",
      " 33  School Phone Number             364558 non-null  object \n",
      " 34  School Address                  364558 non-null  object \n",
      " 35  School City                     364558 non-null  object \n",
      " 36  School State                    364558 non-null  object \n",
      " 37  School Zip                      364557 non-null  object \n",
      " 38  School Not Found                364558 non-null  object \n",
      " 39  Bridge Highway Name             297 non-null     object \n",
      " 40  Bridge Highway Direction        297 non-null     object \n",
      " 41  Road Ramp                       262 non-null     object \n",
      " 42  Bridge Highway Segment          262 non-null     object \n",
      " 43  Ferry Direction                 1 non-null       object \n",
      " 44  Ferry Terminal Name             2 non-null       object \n",
      " 45  Latitude                        360528 non-null  float64\n",
      " 46  Longitude                       360528 non-null  float64\n",
      " 47  Location                        360528 non-null  object \n",
      "dtypes: float64(5), int64(1), object(42)\n",
      "memory usage: 133.5+ MB\n"
     ]
    }
   ],
   "source": [
    "# Chekcing if the columns with all blank details have been removed or not. After 5 removed total columsn are 48\n",
    "\n",
    "service_request_df.info()"
   ]
  },
  {
   "cell_type": "code",
   "execution_count": 14,
   "id": "e080fdb5",
   "metadata": {},
   "outputs": [
    {
     "data": {
      "text/plain": [
       "Unique Key                             0\n",
       "Created Date                           0\n",
       "Closed Date                         2381\n",
       "Agency                                 0\n",
       "Agency Name                            0\n",
       "Complaint Type                         0\n",
       "Descriptor                             0\n",
       "Location Type                        133\n",
       "Incident Zip                        2998\n",
       "Incident Address                   51699\n",
       "Street Name                        51699\n",
       "Cross Street 1                     57188\n",
       "Cross Street 2                     57805\n",
       "Intersection Street 1             313438\n",
       "Intersection Street 2             314046\n",
       "Address Type                        3252\n",
       "City                                2997\n",
       "Landmark                          364183\n",
       "Facility Type                       2389\n",
       "Status                                 0\n",
       "Due Date                               3\n",
       "Resolution Description                 0\n",
       "Resolution Action Updated Date      2402\n",
       "Community Board                        0\n",
       "Borough                                0\n",
       "X Coordinate (State Plane)          4030\n",
       "Y Coordinate (State Plane)          4030\n",
       "Park Facility Name                     0\n",
       "Park Borough                           0\n",
       "School Name                            0\n",
       "School Number                          0\n",
       "School Region                          1\n",
       "School Code                            1\n",
       "School Phone Number                    0\n",
       "School Address                         0\n",
       "School City                            0\n",
       "School State                           0\n",
       "School Zip                             1\n",
       "School Not Found                       0\n",
       "Bridge Highway Name               364261\n",
       "Bridge Highway Direction          364261\n",
       "Road Ramp                         364296\n",
       "Bridge Highway Segment            364296\n",
       "Ferry Direction                   364557\n",
       "Ferry Terminal Name               364556\n",
       "Latitude                            4030\n",
       "Longitude                           4030\n",
       "Location                            4030\n",
       "dtype: int64"
      ]
     },
     "execution_count": 14,
     "metadata": {},
     "output_type": "execute_result"
    }
   ],
   "source": [
    "# Identifying the remaining columns with null values.\n",
    "\n",
    "service_request_df.isnull().sum()"
   ]
  },
  {
   "cell_type": "markdown",
   "id": "cb8bfa12",
   "metadata": {},
   "source": [
    "Here all the columns are not filled at once as well as column does have different data types. Hence a generic value of \"0\" has not been used to fill any null value."
   ]
  },
  {
   "cell_type": "code",
   "execution_count": 15,
   "id": "a2c13844",
   "metadata": {},
   "outputs": [],
   "source": [
    "service_request_df['Closed Date'].fillna(value='no info',inplace=True)"
   ]
  },
  {
   "cell_type": "code",
   "execution_count": 16,
   "id": "ae212257",
   "metadata": {},
   "outputs": [],
   "source": [
    "service_request_df['Location Type'].fillna(value='no info',inplace=True)"
   ]
  },
  {
   "cell_type": "code",
   "execution_count": 17,
   "id": "491b20ca",
   "metadata": {},
   "outputs": [],
   "source": [
    "service_request_df['Incident Address'].fillna(value='no info',inplace=True)"
   ]
  },
  {
   "cell_type": "code",
   "execution_count": 18,
   "id": "e781f3bd",
   "metadata": {},
   "outputs": [],
   "source": [
    "service_request_df['Street Name'].fillna(value='no info',inplace=True)"
   ]
  },
  {
   "cell_type": "code",
   "execution_count": 19,
   "id": "2d68ee45",
   "metadata": {},
   "outputs": [],
   "source": [
    "service_request_df['Cross Street 1'].fillna(value='no info',inplace=True)"
   ]
  },
  {
   "cell_type": "code",
   "execution_count": 20,
   "id": "740c3d61",
   "metadata": {},
   "outputs": [],
   "source": [
    "service_request_df['Cross Street 2'].fillna(value='no info',inplace=True)"
   ]
  },
  {
   "cell_type": "code",
   "execution_count": 21,
   "id": "28241dd9",
   "metadata": {},
   "outputs": [],
   "source": [
    "service_request_df['Intersection Street 1'].fillna(value='no info',inplace=True)"
   ]
  },
  {
   "cell_type": "code",
   "execution_count": 22,
   "id": "b4117afd",
   "metadata": {},
   "outputs": [],
   "source": [
    "service_request_df['Intersection Street 2'].fillna(value='no info',inplace=True)"
   ]
  },
  {
   "cell_type": "code",
   "execution_count": 23,
   "id": "bd4551bd",
   "metadata": {},
   "outputs": [],
   "source": [
    "service_request_df['Address Type'].fillna(value='no info',inplace=True)"
   ]
  },
  {
   "cell_type": "code",
   "execution_count": 24,
   "id": "0922997b",
   "metadata": {},
   "outputs": [],
   "source": [
    "service_request_df['City'].fillna(value='no info',inplace=True)"
   ]
  },
  {
   "cell_type": "code",
   "execution_count": 25,
   "id": "0fc83433",
   "metadata": {},
   "outputs": [],
   "source": [
    "service_request_df['Landmark'].fillna(value='no info',inplace=True)"
   ]
  },
  {
   "cell_type": "code",
   "execution_count": 26,
   "id": "54e676aa",
   "metadata": {},
   "outputs": [],
   "source": [
    "service_request_df['Facility Type'].fillna(value='no info',inplace=True)"
   ]
  },
  {
   "cell_type": "code",
   "execution_count": 27,
   "id": "97fedfc4",
   "metadata": {},
   "outputs": [],
   "source": [
    "service_request_df['Due Date'].fillna(value='no info',inplace=True)"
   ]
  },
  {
   "cell_type": "code",
   "execution_count": 28,
   "id": "ca945956",
   "metadata": {},
   "outputs": [],
   "source": [
    "service_request_df['Resolution Action Updated Date'].fillna(value='no info',inplace=True)"
   ]
  },
  {
   "cell_type": "code",
   "execution_count": 29,
   "id": "bc71339a",
   "metadata": {},
   "outputs": [],
   "source": [
    "service_request_df['School Region'].fillna(value='no info',inplace=True)"
   ]
  },
  {
   "cell_type": "code",
   "execution_count": 30,
   "id": "85368a3a",
   "metadata": {},
   "outputs": [],
   "source": [
    "service_request_df['School Code'].fillna(value='no info',inplace=True)"
   ]
  },
  {
   "cell_type": "code",
   "execution_count": 31,
   "id": "c1cd4cb7",
   "metadata": {},
   "outputs": [],
   "source": [
    "service_request_df['School Zip'].fillna(value='no info',inplace=True)"
   ]
  },
  {
   "cell_type": "code",
   "execution_count": 32,
   "id": "be295a41",
   "metadata": {},
   "outputs": [],
   "source": [
    "service_request_df['Bridge Highway Name'].fillna(value='no info',inplace=True)"
   ]
  },
  {
   "cell_type": "code",
   "execution_count": 33,
   "id": "a3da54af",
   "metadata": {},
   "outputs": [],
   "source": [
    "service_request_df['Bridge Highway Direction'].fillna(value='no info',inplace=True)"
   ]
  },
  {
   "cell_type": "code",
   "execution_count": 34,
   "id": "5b6b2f97",
   "metadata": {},
   "outputs": [],
   "source": [
    "service_request_df['Road Ramp'].fillna(value='no info',inplace=True)"
   ]
  },
  {
   "cell_type": "code",
   "execution_count": 35,
   "id": "3274c269",
   "metadata": {},
   "outputs": [],
   "source": [
    "service_request_df['Bridge Highway Segment'].fillna(value='no info',inplace=True)"
   ]
  },
  {
   "cell_type": "code",
   "execution_count": 36,
   "id": "75860f36",
   "metadata": {},
   "outputs": [],
   "source": [
    "service_request_df['Ferry Direction'].fillna(value='no info',inplace=True)"
   ]
  },
  {
   "cell_type": "code",
   "execution_count": 37,
   "id": "5d8aa839",
   "metadata": {},
   "outputs": [],
   "source": [
    "service_request_df['Ferry Terminal Name'].fillna(value='no info',inplace=True)"
   ]
  },
  {
   "cell_type": "code",
   "execution_count": 38,
   "id": "f307295c",
   "metadata": {},
   "outputs": [],
   "source": [
    "service_request_df['Incident Zip'].fillna(value='no info',inplace=True)"
   ]
  },
  {
   "cell_type": "code",
   "execution_count": 39,
   "id": "6b54f7b2",
   "metadata": {},
   "outputs": [],
   "source": [
    "service_request_df['X Coordinate (State Plane)'].fillna(value='no info',inplace=True)"
   ]
  },
  {
   "cell_type": "code",
   "execution_count": 40,
   "id": "302f288b",
   "metadata": {},
   "outputs": [],
   "source": [
    "service_request_df['Y Coordinate (State Plane)'].fillna(value='no info',inplace=True)"
   ]
  },
  {
   "cell_type": "code",
   "execution_count": 41,
   "id": "7eb063cd",
   "metadata": {},
   "outputs": [],
   "source": [
    "service_request_df['Latitude'].fillna(value='no info',inplace=True)"
   ]
  },
  {
   "cell_type": "code",
   "execution_count": 42,
   "id": "2a6b6d49",
   "metadata": {},
   "outputs": [],
   "source": [
    "service_request_df['Longitude'].fillna(value='no info',inplace=True)"
   ]
  },
  {
   "cell_type": "code",
   "execution_count": 43,
   "id": "d56b0e45",
   "metadata": {},
   "outputs": [],
   "source": [
    "service_request_df['Location'].fillna(value='no info',inplace=True)"
   ]
  },
  {
   "cell_type": "code",
   "execution_count": 44,
   "id": "b87b142a",
   "metadata": {},
   "outputs": [
    {
     "data": {
      "text/plain": [
       "Unique Key                        0\n",
       "Created Date                      0\n",
       "Closed Date                       0\n",
       "Agency                            0\n",
       "Agency Name                       0\n",
       "Complaint Type                    0\n",
       "Descriptor                        0\n",
       "Location Type                     0\n",
       "Incident Zip                      0\n",
       "Incident Address                  0\n",
       "Street Name                       0\n",
       "Cross Street 1                    0\n",
       "Cross Street 2                    0\n",
       "Intersection Street 1             0\n",
       "Intersection Street 2             0\n",
       "Address Type                      0\n",
       "City                              0\n",
       "Landmark                          0\n",
       "Facility Type                     0\n",
       "Status                            0\n",
       "Due Date                          0\n",
       "Resolution Description            0\n",
       "Resolution Action Updated Date    0\n",
       "Community Board                   0\n",
       "Borough                           0\n",
       "X Coordinate (State Plane)        0\n",
       "Y Coordinate (State Plane)        0\n",
       "Park Facility Name                0\n",
       "Park Borough                      0\n",
       "School Name                       0\n",
       "School Number                     0\n",
       "School Region                     0\n",
       "School Code                       0\n",
       "School Phone Number               0\n",
       "School Address                    0\n",
       "School City                       0\n",
       "School State                      0\n",
       "School Zip                        0\n",
       "School Not Found                  0\n",
       "Bridge Highway Name               0\n",
       "Bridge Highway Direction          0\n",
       "Road Ramp                         0\n",
       "Bridge Highway Segment            0\n",
       "Ferry Direction                   0\n",
       "Ferry Terminal Name               0\n",
       "Latitude                          0\n",
       "Longitude                         0\n",
       "Location                          0\n",
       "dtype: int64"
      ]
     },
     "execution_count": 44,
     "metadata": {},
     "output_type": "execute_result"
    }
   ],
   "source": [
    "# Confirming if all the values have been successfully updated with \"no info\"\n",
    "\n",
    "service_request_df.isnull().sum()"
   ]
  },
  {
   "cell_type": "code",
   "execution_count": 45,
   "id": "2571ac5a",
   "metadata": {},
   "outputs": [
    {
     "data": {
      "text/html": [
       "<div>\n",
       "<style scoped>\n",
       "    .dataframe tbody tr th:only-of-type {\n",
       "        vertical-align: middle;\n",
       "    }\n",
       "\n",
       "    .dataframe tbody tr th {\n",
       "        vertical-align: top;\n",
       "    }\n",
       "\n",
       "    .dataframe thead th {\n",
       "        text-align: right;\n",
       "    }\n",
       "</style>\n",
       "<table border=\"1\" class=\"dataframe\">\n",
       "  <thead>\n",
       "    <tr style=\"text-align: right;\">\n",
       "      <th></th>\n",
       "      <th>Unique Key</th>\n",
       "      <th>Created Date</th>\n",
       "      <th>Closed Date</th>\n",
       "      <th>Agency</th>\n",
       "      <th>Agency Name</th>\n",
       "      <th>Complaint Type</th>\n",
       "      <th>Descriptor</th>\n",
       "      <th>Location Type</th>\n",
       "      <th>Incident Zip</th>\n",
       "      <th>Incident Address</th>\n",
       "      <th>...</th>\n",
       "      <th>School Not Found</th>\n",
       "      <th>Bridge Highway Name</th>\n",
       "      <th>Bridge Highway Direction</th>\n",
       "      <th>Road Ramp</th>\n",
       "      <th>Bridge Highway Segment</th>\n",
       "      <th>Ferry Direction</th>\n",
       "      <th>Ferry Terminal Name</th>\n",
       "      <th>Latitude</th>\n",
       "      <th>Longitude</th>\n",
       "      <th>Location</th>\n",
       "    </tr>\n",
       "  </thead>\n",
       "  <tbody>\n",
       "    <tr>\n",
       "      <th>0</th>\n",
       "      <td>32310363</td>\n",
       "      <td>12/31/2015 11:59:45 PM</td>\n",
       "      <td>01/01/2016 12:55:15 AM</td>\n",
       "      <td>NYPD</td>\n",
       "      <td>New York City Police Department</td>\n",
       "      <td>Noise - Street/Sidewalk</td>\n",
       "      <td>Loud Music/Party</td>\n",
       "      <td>Street/Sidewalk</td>\n",
       "      <td>10034.0</td>\n",
       "      <td>71 VERMILYEA AVENUE</td>\n",
       "      <td>...</td>\n",
       "      <td>N</td>\n",
       "      <td>no info</td>\n",
       "      <td>no info</td>\n",
       "      <td>no info</td>\n",
       "      <td>no info</td>\n",
       "      <td>no info</td>\n",
       "      <td>no info</td>\n",
       "      <td>40.865682</td>\n",
       "      <td>-73.923501</td>\n",
       "      <td>(40.86568153633767, -73.92350095571744)</td>\n",
       "    </tr>\n",
       "    <tr>\n",
       "      <th>1</th>\n",
       "      <td>32309934</td>\n",
       "      <td>12/31/2015 11:59:44 PM</td>\n",
       "      <td>01/01/2016 01:26:57 AM</td>\n",
       "      <td>NYPD</td>\n",
       "      <td>New York City Police Department</td>\n",
       "      <td>Blocked Driveway</td>\n",
       "      <td>No Access</td>\n",
       "      <td>Street/Sidewalk</td>\n",
       "      <td>11105.0</td>\n",
       "      <td>27-07 23 AVENUE</td>\n",
       "      <td>...</td>\n",
       "      <td>N</td>\n",
       "      <td>no info</td>\n",
       "      <td>no info</td>\n",
       "      <td>no info</td>\n",
       "      <td>no info</td>\n",
       "      <td>no info</td>\n",
       "      <td>no info</td>\n",
       "      <td>40.775945</td>\n",
       "      <td>-73.915094</td>\n",
       "      <td>(40.775945312321085, -73.91509393898605)</td>\n",
       "    </tr>\n",
       "    <tr>\n",
       "      <th>2</th>\n",
       "      <td>32309159</td>\n",
       "      <td>12/31/2015 11:59:29 PM</td>\n",
       "      <td>01/01/2016 04:51:03 AM</td>\n",
       "      <td>NYPD</td>\n",
       "      <td>New York City Police Department</td>\n",
       "      <td>Blocked Driveway</td>\n",
       "      <td>No Access</td>\n",
       "      <td>Street/Sidewalk</td>\n",
       "      <td>10458.0</td>\n",
       "      <td>2897 VALENTINE AVENUE</td>\n",
       "      <td>...</td>\n",
       "      <td>N</td>\n",
       "      <td>no info</td>\n",
       "      <td>no info</td>\n",
       "      <td>no info</td>\n",
       "      <td>no info</td>\n",
       "      <td>no info</td>\n",
       "      <td>no info</td>\n",
       "      <td>40.870325</td>\n",
       "      <td>-73.888525</td>\n",
       "      <td>(40.870324522111424, -73.88852464418646)</td>\n",
       "    </tr>\n",
       "    <tr>\n",
       "      <th>3</th>\n",
       "      <td>32305098</td>\n",
       "      <td>12/31/2015 11:57:46 PM</td>\n",
       "      <td>01/01/2016 07:43:13 AM</td>\n",
       "      <td>NYPD</td>\n",
       "      <td>New York City Police Department</td>\n",
       "      <td>Illegal Parking</td>\n",
       "      <td>Commercial Overnight Parking</td>\n",
       "      <td>Street/Sidewalk</td>\n",
       "      <td>10461.0</td>\n",
       "      <td>2940 BAISLEY AVENUE</td>\n",
       "      <td>...</td>\n",
       "      <td>N</td>\n",
       "      <td>no info</td>\n",
       "      <td>no info</td>\n",
       "      <td>no info</td>\n",
       "      <td>no info</td>\n",
       "      <td>no info</td>\n",
       "      <td>no info</td>\n",
       "      <td>40.835994</td>\n",
       "      <td>-73.828379</td>\n",
       "      <td>(40.83599404683083, -73.82837939584206)</td>\n",
       "    </tr>\n",
       "    <tr>\n",
       "      <th>4</th>\n",
       "      <td>32306529</td>\n",
       "      <td>12/31/2015 11:56:58 PM</td>\n",
       "      <td>01/01/2016 03:24:42 AM</td>\n",
       "      <td>NYPD</td>\n",
       "      <td>New York City Police Department</td>\n",
       "      <td>Illegal Parking</td>\n",
       "      <td>Blocked Sidewalk</td>\n",
       "      <td>Street/Sidewalk</td>\n",
       "      <td>11373.0</td>\n",
       "      <td>87-14 57 ROAD</td>\n",
       "      <td>...</td>\n",
       "      <td>N</td>\n",
       "      <td>no info</td>\n",
       "      <td>no info</td>\n",
       "      <td>no info</td>\n",
       "      <td>no info</td>\n",
       "      <td>no info</td>\n",
       "      <td>no info</td>\n",
       "      <td>40.73306</td>\n",
       "      <td>-73.87417</td>\n",
       "      <td>(40.733059618956815, -73.87416975810375)</td>\n",
       "    </tr>\n",
       "    <tr>\n",
       "      <th>...</th>\n",
       "      <td>...</td>\n",
       "      <td>...</td>\n",
       "      <td>...</td>\n",
       "      <td>...</td>\n",
       "      <td>...</td>\n",
       "      <td>...</td>\n",
       "      <td>...</td>\n",
       "      <td>...</td>\n",
       "      <td>...</td>\n",
       "      <td>...</td>\n",
       "      <td>...</td>\n",
       "      <td>...</td>\n",
       "      <td>...</td>\n",
       "      <td>...</td>\n",
       "      <td>...</td>\n",
       "      <td>...</td>\n",
       "      <td>...</td>\n",
       "      <td>...</td>\n",
       "      <td>...</td>\n",
       "      <td>...</td>\n",
       "      <td>...</td>\n",
       "    </tr>\n",
       "    <tr>\n",
       "      <th>364553</th>\n",
       "      <td>29609918</td>\n",
       "      <td>01/01/2015 12:04:44 AM</td>\n",
       "      <td>01/01/2015 10:22:31 AM</td>\n",
       "      <td>NYPD</td>\n",
       "      <td>New York City Police Department</td>\n",
       "      <td>Illegal Parking</td>\n",
       "      <td>Blocked Hydrant</td>\n",
       "      <td>Street/Sidewalk</td>\n",
       "      <td>11421.0</td>\n",
       "      <td>84-25 85 ROAD</td>\n",
       "      <td>...</td>\n",
       "      <td>N</td>\n",
       "      <td>no info</td>\n",
       "      <td>no info</td>\n",
       "      <td>no info</td>\n",
       "      <td>no info</td>\n",
       "      <td>no info</td>\n",
       "      <td>no info</td>\n",
       "      <td>40.695145</td>\n",
       "      <td>-73.860949</td>\n",
       "      <td>(40.69514470265117, -73.86094888534394)</td>\n",
       "    </tr>\n",
       "    <tr>\n",
       "      <th>364554</th>\n",
       "      <td>29608392</td>\n",
       "      <td>01/01/2015 12:04:28 AM</td>\n",
       "      <td>01/01/2015 02:25:02 AM</td>\n",
       "      <td>NYPD</td>\n",
       "      <td>New York City Police Department</td>\n",
       "      <td>Noise - Vehicle</td>\n",
       "      <td>Car/Truck Horn</td>\n",
       "      <td>Street/Sidewalk</td>\n",
       "      <td>10468.0</td>\n",
       "      <td>2555 SEDGWICK AVENUE</td>\n",
       "      <td>...</td>\n",
       "      <td>N</td>\n",
       "      <td>no info</td>\n",
       "      <td>no info</td>\n",
       "      <td>no info</td>\n",
       "      <td>no info</td>\n",
       "      <td>no info</td>\n",
       "      <td>no info</td>\n",
       "      <td>40.86783</td>\n",
       "      <td>-73.907178</td>\n",
       "      <td>(40.86782963689454, -73.90717786644662)</td>\n",
       "    </tr>\n",
       "    <tr>\n",
       "      <th>364555</th>\n",
       "      <td>29607589</td>\n",
       "      <td>01/01/2015 12:01:30 AM</td>\n",
       "      <td>01/01/2015 12:20:33 AM</td>\n",
       "      <td>NYPD</td>\n",
       "      <td>New York City Police Department</td>\n",
       "      <td>Noise - Street/Sidewalk</td>\n",
       "      <td>Loud Music/Party</td>\n",
       "      <td>Street/Sidewalk</td>\n",
       "      <td>10031.0</td>\n",
       "      <td>508 WEST 139 STREET</td>\n",
       "      <td>...</td>\n",
       "      <td>N</td>\n",
       "      <td>no info</td>\n",
       "      <td>no info</td>\n",
       "      <td>no info</td>\n",
       "      <td>no info</td>\n",
       "      <td>no info</td>\n",
       "      <td>no info</td>\n",
       "      <td>40.821647</td>\n",
       "      <td>-73.950873</td>\n",
       "      <td>(40.821646626438095, -73.95087342885292)</td>\n",
       "    </tr>\n",
       "    <tr>\n",
       "      <th>364556</th>\n",
       "      <td>29610889</td>\n",
       "      <td>01/01/2015 12:01:29 AM</td>\n",
       "      <td>01/01/2015 02:42:22 AM</td>\n",
       "      <td>NYPD</td>\n",
       "      <td>New York City Police Department</td>\n",
       "      <td>Blocked Driveway</td>\n",
       "      <td>No Access</td>\n",
       "      <td>Street/Sidewalk</td>\n",
       "      <td>10466.0</td>\n",
       "      <td>931 EAST 226 STREET</td>\n",
       "      <td>...</td>\n",
       "      <td>N</td>\n",
       "      <td>no info</td>\n",
       "      <td>no info</td>\n",
       "      <td>no info</td>\n",
       "      <td>no info</td>\n",
       "      <td>no info</td>\n",
       "      <td>no info</td>\n",
       "      <td>40.886361</td>\n",
       "      <td>-73.85329</td>\n",
       "      <td>(40.88636077906953, -73.85329048666742)</td>\n",
       "    </tr>\n",
       "    <tr>\n",
       "      <th>364557</th>\n",
       "      <td>29611816</td>\n",
       "      <td>01/01/2015 12:00:50 AM</td>\n",
       "      <td>01/01/2015 02:47:50 AM</td>\n",
       "      <td>NYPD</td>\n",
       "      <td>New York City Police Department</td>\n",
       "      <td>Blocked Driveway</td>\n",
       "      <td>No Access</td>\n",
       "      <td>Street/Sidewalk</td>\n",
       "      <td>11420.0</td>\n",
       "      <td>123-19 135 STREET</td>\n",
       "      <td>...</td>\n",
       "      <td>N</td>\n",
       "      <td>no info</td>\n",
       "      <td>no info</td>\n",
       "      <td>no info</td>\n",
       "      <td>no info</td>\n",
       "      <td>no info</td>\n",
       "      <td>no info</td>\n",
       "      <td>40.674212</td>\n",
       "      <td>-73.803585</td>\n",
       "      <td>(40.674211762243935, -73.80358548685278)</td>\n",
       "    </tr>\n",
       "  </tbody>\n",
       "</table>\n",
       "<p>364558 rows × 48 columns</p>\n",
       "</div>"
      ],
      "text/plain": [
       "        Unique Key            Created Date             Closed Date Agency  \\\n",
       "0         32310363  12/31/2015 11:59:45 PM  01/01/2016 12:55:15 AM   NYPD   \n",
       "1         32309934  12/31/2015 11:59:44 PM  01/01/2016 01:26:57 AM   NYPD   \n",
       "2         32309159  12/31/2015 11:59:29 PM  01/01/2016 04:51:03 AM   NYPD   \n",
       "3         32305098  12/31/2015 11:57:46 PM  01/01/2016 07:43:13 AM   NYPD   \n",
       "4         32306529  12/31/2015 11:56:58 PM  01/01/2016 03:24:42 AM   NYPD   \n",
       "...            ...                     ...                     ...    ...   \n",
       "364553    29609918  01/01/2015 12:04:44 AM  01/01/2015 10:22:31 AM   NYPD   \n",
       "364554    29608392  01/01/2015 12:04:28 AM  01/01/2015 02:25:02 AM   NYPD   \n",
       "364555    29607589  01/01/2015 12:01:30 AM  01/01/2015 12:20:33 AM   NYPD   \n",
       "364556    29610889  01/01/2015 12:01:29 AM  01/01/2015 02:42:22 AM   NYPD   \n",
       "364557    29611816  01/01/2015 12:00:50 AM  01/01/2015 02:47:50 AM   NYPD   \n",
       "\n",
       "                            Agency Name           Complaint Type  \\\n",
       "0       New York City Police Department  Noise - Street/Sidewalk   \n",
       "1       New York City Police Department         Blocked Driveway   \n",
       "2       New York City Police Department         Blocked Driveway   \n",
       "3       New York City Police Department          Illegal Parking   \n",
       "4       New York City Police Department          Illegal Parking   \n",
       "...                                 ...                      ...   \n",
       "364553  New York City Police Department          Illegal Parking   \n",
       "364554  New York City Police Department          Noise - Vehicle   \n",
       "364555  New York City Police Department  Noise - Street/Sidewalk   \n",
       "364556  New York City Police Department         Blocked Driveway   \n",
       "364557  New York City Police Department         Blocked Driveway   \n",
       "\n",
       "                          Descriptor    Location Type Incident Zip  \\\n",
       "0                   Loud Music/Party  Street/Sidewalk      10034.0   \n",
       "1                          No Access  Street/Sidewalk      11105.0   \n",
       "2                          No Access  Street/Sidewalk      10458.0   \n",
       "3       Commercial Overnight Parking  Street/Sidewalk      10461.0   \n",
       "4                   Blocked Sidewalk  Street/Sidewalk      11373.0   \n",
       "...                              ...              ...          ...   \n",
       "364553               Blocked Hydrant  Street/Sidewalk      11421.0   \n",
       "364554                Car/Truck Horn  Street/Sidewalk      10468.0   \n",
       "364555              Loud Music/Party  Street/Sidewalk      10031.0   \n",
       "364556                     No Access  Street/Sidewalk      10466.0   \n",
       "364557                     No Access  Street/Sidewalk      11420.0   \n",
       "\n",
       "             Incident Address  ... School Not Found Bridge Highway Name  \\\n",
       "0         71 VERMILYEA AVENUE  ...                N             no info   \n",
       "1             27-07 23 AVENUE  ...                N             no info   \n",
       "2       2897 VALENTINE AVENUE  ...                N             no info   \n",
       "3         2940 BAISLEY AVENUE  ...                N             no info   \n",
       "4               87-14 57 ROAD  ...                N             no info   \n",
       "...                       ...  ...              ...                 ...   \n",
       "364553          84-25 85 ROAD  ...                N             no info   \n",
       "364554   2555 SEDGWICK AVENUE  ...                N             no info   \n",
       "364555    508 WEST 139 STREET  ...                N             no info   \n",
       "364556    931 EAST 226 STREET  ...                N             no info   \n",
       "364557      123-19 135 STREET  ...                N             no info   \n",
       "\n",
       "       Bridge Highway Direction Road Ramp Bridge Highway Segment  \\\n",
       "0                       no info   no info                no info   \n",
       "1                       no info   no info                no info   \n",
       "2                       no info   no info                no info   \n",
       "3                       no info   no info                no info   \n",
       "4                       no info   no info                no info   \n",
       "...                         ...       ...                    ...   \n",
       "364553                  no info   no info                no info   \n",
       "364554                  no info   no info                no info   \n",
       "364555                  no info   no info                no info   \n",
       "364556                  no info   no info                no info   \n",
       "364557                  no info   no info                no info   \n",
       "\n",
       "       Ferry Direction Ferry Terminal Name   Latitude  Longitude  \\\n",
       "0              no info             no info  40.865682 -73.923501   \n",
       "1              no info             no info  40.775945 -73.915094   \n",
       "2              no info             no info  40.870325 -73.888525   \n",
       "3              no info             no info  40.835994 -73.828379   \n",
       "4              no info             no info   40.73306  -73.87417   \n",
       "...                ...                 ...        ...        ...   \n",
       "364553         no info             no info  40.695145 -73.860949   \n",
       "364554         no info             no info   40.86783 -73.907178   \n",
       "364555         no info             no info  40.821647 -73.950873   \n",
       "364556         no info             no info  40.886361  -73.85329   \n",
       "364557         no info             no info  40.674212 -73.803585   \n",
       "\n",
       "                                        Location  \n",
       "0        (40.86568153633767, -73.92350095571744)  \n",
       "1       (40.775945312321085, -73.91509393898605)  \n",
       "2       (40.870324522111424, -73.88852464418646)  \n",
       "3        (40.83599404683083, -73.82837939584206)  \n",
       "4       (40.733059618956815, -73.87416975810375)  \n",
       "...                                          ...  \n",
       "364553   (40.69514470265117, -73.86094888534394)  \n",
       "364554   (40.86782963689454, -73.90717786644662)  \n",
       "364555  (40.821646626438095, -73.95087342885292)  \n",
       "364556   (40.88636077906953, -73.85329048666742)  \n",
       "364557  (40.674211762243935, -73.80358548685278)  \n",
       "\n",
       "[364558 rows x 48 columns]"
      ]
     },
     "execution_count": 45,
     "metadata": {},
     "output_type": "execute_result"
    }
   ],
   "source": [
    "# Just in case if i wulod have tried to do this in one coding\n",
    "\n",
    "sr_df = service_request_df.fillna(value='no info')\n",
    "sr_df"
   ]
  },
  {
   "cell_type": "markdown",
   "id": "f1b8b2e4",
   "metadata": {},
   "source": [
    "2.2 Analyze the date column and remove the entries if it has an incorrect timeline"
   ]
  },
  {
   "cell_type": "code",
   "execution_count": 46,
   "id": "eeb658da",
   "metadata": {},
   "outputs": [
    {
     "data": {
      "text/html": [
       "<div>\n",
       "<style scoped>\n",
       "    .dataframe tbody tr th:only-of-type {\n",
       "        vertical-align: middle;\n",
       "    }\n",
       "\n",
       "    .dataframe tbody tr th {\n",
       "        vertical-align: top;\n",
       "    }\n",
       "\n",
       "    .dataframe thead th {\n",
       "        text-align: right;\n",
       "    }\n",
       "</style>\n",
       "<table border=\"1\" class=\"dataframe\">\n",
       "  <thead>\n",
       "    <tr style=\"text-align: right;\">\n",
       "      <th></th>\n",
       "      <th>Created Date</th>\n",
       "      <th>Closed Date</th>\n",
       "      <th>Due Date</th>\n",
       "      <th>Resolution Action Updated Date</th>\n",
       "    </tr>\n",
       "  </thead>\n",
       "  <tbody>\n",
       "    <tr>\n",
       "      <th>0</th>\n",
       "      <td>12/31/2015 11:59:45 PM</td>\n",
       "      <td>01/01/2016 12:55:15 AM</td>\n",
       "      <td>01/01/2016 07:59:45 AM</td>\n",
       "      <td>01/01/2016 12:55:15 AM</td>\n",
       "    </tr>\n",
       "    <tr>\n",
       "      <th>1</th>\n",
       "      <td>12/31/2015 11:59:44 PM</td>\n",
       "      <td>01/01/2016 01:26:57 AM</td>\n",
       "      <td>01/01/2016 07:59:44 AM</td>\n",
       "      <td>01/01/2016 01:26:57 AM</td>\n",
       "    </tr>\n",
       "    <tr>\n",
       "      <th>2</th>\n",
       "      <td>12/31/2015 11:59:29 PM</td>\n",
       "      <td>01/01/2016 04:51:03 AM</td>\n",
       "      <td>01/01/2016 07:59:29 AM</td>\n",
       "      <td>01/01/2016 04:51:03 AM</td>\n",
       "    </tr>\n",
       "    <tr>\n",
       "      <th>3</th>\n",
       "      <td>12/31/2015 11:57:46 PM</td>\n",
       "      <td>01/01/2016 07:43:13 AM</td>\n",
       "      <td>01/01/2016 07:57:46 AM</td>\n",
       "      <td>01/01/2016 07:43:13 AM</td>\n",
       "    </tr>\n",
       "    <tr>\n",
       "      <th>4</th>\n",
       "      <td>12/31/2015 11:56:58 PM</td>\n",
       "      <td>01/01/2016 03:24:42 AM</td>\n",
       "      <td>01/01/2016 07:56:58 AM</td>\n",
       "      <td>01/01/2016 03:24:42 AM</td>\n",
       "    </tr>\n",
       "    <tr>\n",
       "      <th>...</th>\n",
       "      <td>...</td>\n",
       "      <td>...</td>\n",
       "      <td>...</td>\n",
       "      <td>...</td>\n",
       "    </tr>\n",
       "    <tr>\n",
       "      <th>364553</th>\n",
       "      <td>01/01/2015 12:04:44 AM</td>\n",
       "      <td>01/01/2015 10:22:31 AM</td>\n",
       "      <td>01/01/2015 08:04:44 AM</td>\n",
       "      <td>01/01/2015 10:22:31 AM</td>\n",
       "    </tr>\n",
       "    <tr>\n",
       "      <th>364554</th>\n",
       "      <td>01/01/2015 12:04:28 AM</td>\n",
       "      <td>01/01/2015 02:25:02 AM</td>\n",
       "      <td>01/01/2015 08:04:28 AM</td>\n",
       "      <td>01/01/2015 02:25:02 AM</td>\n",
       "    </tr>\n",
       "    <tr>\n",
       "      <th>364555</th>\n",
       "      <td>01/01/2015 12:01:30 AM</td>\n",
       "      <td>01/01/2015 12:20:33 AM</td>\n",
       "      <td>01/01/2015 08:01:30 AM</td>\n",
       "      <td>01/01/2015 12:20:33 AM</td>\n",
       "    </tr>\n",
       "    <tr>\n",
       "      <th>364556</th>\n",
       "      <td>01/01/2015 12:01:29 AM</td>\n",
       "      <td>01/01/2015 02:42:22 AM</td>\n",
       "      <td>01/01/2015 08:01:29 AM</td>\n",
       "      <td>01/01/2015 02:42:22 AM</td>\n",
       "    </tr>\n",
       "    <tr>\n",
       "      <th>364557</th>\n",
       "      <td>01/01/2015 12:00:50 AM</td>\n",
       "      <td>01/01/2015 02:47:50 AM</td>\n",
       "      <td>01/01/2015 08:00:50 AM</td>\n",
       "      <td>01/01/2015 02:47:50 AM</td>\n",
       "    </tr>\n",
       "  </tbody>\n",
       "</table>\n",
       "<p>364558 rows × 4 columns</p>\n",
       "</div>"
      ],
      "text/plain": [
       "                  Created Date             Closed Date  \\\n",
       "0       12/31/2015 11:59:45 PM  01/01/2016 12:55:15 AM   \n",
       "1       12/31/2015 11:59:44 PM  01/01/2016 01:26:57 AM   \n",
       "2       12/31/2015 11:59:29 PM  01/01/2016 04:51:03 AM   \n",
       "3       12/31/2015 11:57:46 PM  01/01/2016 07:43:13 AM   \n",
       "4       12/31/2015 11:56:58 PM  01/01/2016 03:24:42 AM   \n",
       "...                        ...                     ...   \n",
       "364553  01/01/2015 12:04:44 AM  01/01/2015 10:22:31 AM   \n",
       "364554  01/01/2015 12:04:28 AM  01/01/2015 02:25:02 AM   \n",
       "364555  01/01/2015 12:01:30 AM  01/01/2015 12:20:33 AM   \n",
       "364556  01/01/2015 12:01:29 AM  01/01/2015 02:42:22 AM   \n",
       "364557  01/01/2015 12:00:50 AM  01/01/2015 02:47:50 AM   \n",
       "\n",
       "                      Due Date Resolution Action Updated Date  \n",
       "0       01/01/2016 07:59:45 AM         01/01/2016 12:55:15 AM  \n",
       "1       01/01/2016 07:59:44 AM         01/01/2016 01:26:57 AM  \n",
       "2       01/01/2016 07:59:29 AM         01/01/2016 04:51:03 AM  \n",
       "3       01/01/2016 07:57:46 AM         01/01/2016 07:43:13 AM  \n",
       "4       01/01/2016 07:56:58 AM         01/01/2016 03:24:42 AM  \n",
       "...                        ...                            ...  \n",
       "364553  01/01/2015 08:04:44 AM         01/01/2015 10:22:31 AM  \n",
       "364554  01/01/2015 08:04:28 AM         01/01/2015 02:25:02 AM  \n",
       "364555  01/01/2015 08:01:30 AM         01/01/2015 12:20:33 AM  \n",
       "364556  01/01/2015 08:01:29 AM         01/01/2015 02:42:22 AM  \n",
       "364557  01/01/2015 08:00:50 AM         01/01/2015 02:47:50 AM  \n",
       "\n",
       "[364558 rows x 4 columns]"
      ]
     },
     "execution_count": 46,
     "metadata": {},
     "output_type": "execute_result"
    }
   ],
   "source": [
    "# Creating a header to view column with time\n",
    "\n",
    "service_request_df[['Created Date','Closed Date','Due Date','Resolution Action Updated Date']]"
   ]
  },
  {
   "cell_type": "markdown",
   "id": "b3daf7c2",
   "metadata": {},
   "source": [
    " Conclusion: = Date format looks good"
   ]
  },
  {
   "cell_type": "markdown",
   "id": "ea03e83b",
   "metadata": {},
   "source": [
    "2.3 Draw a frequency plot for city-wise complaints"
   ]
  },
  {
   "cell_type": "code",
   "execution_count": 47,
   "id": "11b5d807",
   "metadata": {},
   "outputs": [
    {
     "data": {
      "image/png": "[encoded data removed]",
      "text/plain": [
       "<Figure size 540x252 with 1 Axes>"
      ]
     },
     "metadata": {
      "needs_background": "light"
     },
     "output_type": "display_data"
    }
   ],
   "source": [
    "# Frequnecy plot for city count\n",
    "\n",
    "plt.rcParams[\"figure.figsize\"] = [7.50, 3.50]\n",
    "plt.rcParams[\"figure.autolayout\"] = True\n",
    "\n",
    "fig, ax = plt.subplots()\n",
    "\n",
    "city_df = service_request_df['City'].value_counts().plot(ax=ax, kind='bar', xlabel='City', ylabel='frequency')\n",
    "\n",
    "plt.show()"
   ]
  },
  {
   "cell_type": "code",
   "execution_count": 48,
   "id": "9a4de847",
   "metadata": {},
   "outputs": [
    {
     "data": {
      "text/plain": [
       "BROOKLYN               118862\n",
       "NEW YORK                77312\n",
       "BRONX                   49171\n",
       "STATEN ISLAND           15340\n",
       "JAMAICA                  8932\n",
       "ASTORIA                  7991\n",
       "FLUSHING                 7487\n",
       "RIDGEWOOD                6392\n",
       "CORONA                   5383\n",
       "WOODSIDE                 4357\n",
       "EAST ELMHURST            3558\n",
       "OZONE PARK               3446\n",
       "ELMHURST                 3438\n",
       "SOUTH RICHMOND HILL      3431\n",
       "MASPETH                  3118\n",
       "WOODHAVEN                3103\n",
       "LONG ISLAND CITY         3028\n",
       "no info                  2997\n",
       "SOUTH OZONE PARK         2668\n",
       "FRESH MEADOWS            2453\n",
       "RICHMOND HILL            2335\n",
       "MIDDLE VILLAGE           2291\n",
       "QUEENS VILLAGE           2251\n",
       "FOREST HILLS             2122\n",
       "JACKSON HEIGHTS          2106\n",
       "REGO PARK                1807\n",
       "BAYSIDE                  1550\n",
       "COLLEGE POINT            1544\n",
       "FAR ROCKAWAY             1397\n",
       "WHITESTONE               1369\n",
       "HOLLIS                   1231\n",
       "HOWARD BEACH             1144\n",
       "SPRINGFIELD GARDENS      1094\n",
       "ROSEDALE                 1091\n",
       "SAINT ALBANS             1047\n",
       "KEW GARDENS              1008\n",
       "SUNNYSIDE                 944\n",
       "Astoria                   906\n",
       "ROCKAWAY PARK             831\n",
       "OAKLAND GARDENS           717\n",
       "LITTLE NECK               712\n",
       "CAMBRIA HEIGHTS           617\n",
       "BELLEROSE                 487\n",
       "GLEN OAKS                 361\n",
       "ARVERNE                   259\n",
       "FLORAL PARK               196\n",
       "Long Island City          170\n",
       "Woodside                  166\n",
       "NEW HYDE PARK             129\n",
       "CENTRAL PARK              110\n",
       "QUEENS                     37\n",
       "BREEZY POINT               31\n",
       "East Elmhurst              30\n",
       "Howard Beach                1\n",
       "Name: City, dtype: int64"
      ]
     },
     "execution_count": 48,
     "metadata": {},
     "output_type": "execute_result"
    }
   ],
   "source": [
    "# Presenting the frequency plot for city-wise\n",
    "\n",
    "service_request_df['City'].value_counts()"
   ]
  },
  {
   "cell_type": "code",
   "execution_count": 49,
   "id": "e441ec32",
   "metadata": {},
   "outputs": [
    {
     "data": {
      "image/png": "[encoded data removed]",
      "text/plain": [
       "<Figure size 540x252 with 1 Axes>"
      ]
     },
     "metadata": {
      "needs_background": "light"
     },
     "output_type": "display_data"
    }
   ],
   "source": [
    "# Frequnecy plot for Complaint wise\n",
    "\n",
    "plt.rcParams[\"figure.figsize\"] = [7.50, 3.50]\n",
    "plt.rcParams[\"figure.autolayout\"] = True\n",
    "\n",
    "fig, ax = plt.subplots()\n",
    "\n",
    "city_df = service_request_df['Complaint Type'].value_counts().plot(ax=ax, kind='bar', xlabel='Complaint Type', ylabel='frequency')\n",
    "\n",
    "plt.show()"
   ]
  },
  {
   "cell_type": "code",
   "execution_count": 50,
   "id": "53e32155",
   "metadata": {},
   "outputs": [
    {
     "data": {
      "text/plain": [
       "Blocked Driveway             100881\n",
       "Illegal Parking               92679\n",
       "Noise - Street/Sidewalk       51692\n",
       "Noise - Commercial            44109\n",
       "Derelict Vehicle              21661\n",
       "Noise - Vehicle               19352\n",
       "Animal Abuse                  10541\n",
       "Traffic                        5198\n",
       "Homeless Encampment            4879\n",
       "Vending                        4192\n",
       "Noise - Park                   4109\n",
       "Drinking                       1409\n",
       "Noise - House of Worship       1070\n",
       "Posting Advertisement           681\n",
       "Urinating in Public             641\n",
       "Bike/Roller/Skate Chronic       478\n",
       "Panhandling                     327\n",
       "Disorderly Youth                315\n",
       "Illegal Fireworks               172\n",
       "Graffiti                        157\n",
       "Agency Issues                     8\n",
       "Squeegee                          4\n",
       "Ferry Complaint                   2\n",
       "Animal in a Park                  1\n",
       "Name: Complaint Type, dtype: int64"
      ]
     },
     "execution_count": 50,
     "metadata": {},
     "output_type": "execute_result"
    }
   ],
   "source": [
    "# Presenting the frequency plot for Complaint Wise in Count\n",
    "\n",
    "service_request_df['Complaint Type'].value_counts()"
   ]
  },
  {
   "cell_type": "code",
   "execution_count": 51,
   "id": "b5e1a2ce",
   "metadata": {
    "scrolled": true
   },
   "outputs": [
    {
     "data": {
      "image/png": "[encoded data removed]",
      "text/plain": [
       "<Figure size 540x252 with 1 Axes>"
      ]
     },
     "metadata": {
      "needs_background": "light"
     },
     "output_type": "display_data"
    }
   ],
   "source": [
    "# Frequency of City wise - Complaint type in Scatter in matplotlib\n",
    "\n",
    "plt.scatter(service_request_df['City'],service_request_df['Complaint Type'])\n",
    "plt.xlabel('City')\n",
    "plt.ylabel('Complaint Type')\n",
    "plt.title('City-Complaint Type Relationship Study')\n",
    "plt.show()"
   ]
  },
  {
   "cell_type": "code",
   "execution_count": 52,
   "id": "7487bc80",
   "metadata": {
    "scrolled": true
   },
   "outputs": [
    {
     "data": {
      "image/png": "[encoded data removed]",
      "text/plain": [
       "<Figure size 540x252 with 1 Axes>"
      ]
     },
     "metadata": {
      "needs_background": "light"
     },
     "output_type": "display_data"
    }
   ],
   "source": [
    "# Frequency of City wise - Complaint type in Scatter in seaborn\n",
    "\n",
    "plot = sns.scatterplot(x='City',y='Complaint Type',data=service_request_df)"
   ]
  },
  {
   "cell_type": "markdown",
   "id": "75f0bea8",
   "metadata": {},
   "source": [
    "2.4 Draw scatter and hexbin plots for complaint concentration across Brooklyn"
   ]
  },
  {
   "cell_type": "code",
   "execution_count": 53,
   "id": "13a126ed",
   "metadata": {},
   "outputs": [
    {
     "ename": "SyntaxError",
     "evalue": "invalid syntax (2529687283.py, line 2)",
     "output_type": "error",
     "traceback": [
      "\u001b[1;36m  Input \u001b[1;32mIn [53]\u001b[1;36m\u001b[0m\n\u001b[1;33m    if i contains ('BROOKLYN'):\u001b[0m\n\u001b[1;37m         ^\u001b[0m\n\u001b[1;31mSyntaxError\u001b[0m\u001b[1;31m:\u001b[0m invalid syntax\n"
     ]
    }
   ],
   "source": [
    "for i in service_request_df['City'].values:\n",
    "    if i contains ('BROOKLYN'):\n",
    "        city_df.append(i.index)\n",
    "        \n",
    "new_service_request_df = service_request_df[city_df].index"
   ]
  },
  {
   "cell_type": "markdown",
   "id": "9bf9e4ea",
   "metadata": {},
   "source": [
    "2.4.1 Draw scatter plots for complaint concentration across Brooklyn"
   ]
  },
  {
   "cell_type": "code",
   "execution_count": 54,
   "id": "20ee260d",
   "metadata": {},
   "outputs": [],
   "source": [
    "def new_df (City):\n",
    "    for i in service_request_df['City'].values:\n",
    "        if i == ('BROOKLYN'):\n",
    "            index = i"
   ]
  },
  {
   "cell_type": "code",
   "execution_count": 55,
   "id": "dc15c768",
   "metadata": {},
   "outputs": [
    {
     "ename": "AttributeError",
     "evalue": "'function' object has no attribute 'value'",
     "output_type": "error",
     "traceback": [
      "\u001b[1;31m---------------------------------------------------------------------------\u001b[0m",
      "\u001b[1;31mAttributeError\u001b[0m                            Traceback (most recent call last)",
      "Input \u001b[1;32mIn [55]\u001b[0m, in \u001b[0;36m<cell line: 1>\u001b[1;34m()\u001b[0m\n\u001b[1;32m----> 1\u001b[0m \u001b[43mnew_df\u001b[49m\u001b[38;5;241;43m.\u001b[39;49m\u001b[43mvalue\u001b[49m()\n",
      "\u001b[1;31mAttributeError\u001b[0m: 'function' object has no attribute 'value'"
     ]
    }
   ],
   "source": [
    "new_df.value()"
   ]
  },
  {
   "cell_type": "code",
   "execution_count": 56,
   "id": "2877332c",
   "metadata": {},
   "outputs": [
    {
     "ename": "NameError",
     "evalue": "name 'City_df' is not defined",
     "output_type": "error",
     "traceback": [
      "\u001b[1;31m---------------------------------------------------------------------------\u001b[0m",
      "\u001b[1;31mNameError\u001b[0m                                 Traceback (most recent call last)",
      "Input \u001b[1;32mIn [56]\u001b[0m, in \u001b[0;36m<cell line: 1>\u001b[1;34m()\u001b[0m\n\u001b[1;32m----> 1\u001b[0m \u001b[43mCity_df\u001b[49m\u001b[38;5;241m.\u001b[39miloc[index]\n",
      "\u001b[1;31mNameError\u001b[0m: name 'City_df' is not defined"
     ]
    }
   ],
   "source": [
    "City_df.iloc[index]"
   ]
  },
  {
   "cell_type": "code",
   "execution_count": 57,
   "id": "462ec329",
   "metadata": {},
   "outputs": [
    {
     "ename": "KeyError",
     "evalue": "None",
     "output_type": "error",
     "traceback": [
      "\u001b[1;31m---------------------------------------------------------------------------\u001b[0m",
      "\u001b[1;31mKeyError\u001b[0m                                  Traceback (most recent call last)",
      "File \u001b[1;32m~\\anaconda3\\lib\\site-packages\\pandas\\core\\indexes\\base.py:3621\u001b[0m, in \u001b[0;36mIndex.get_loc\u001b[1;34m(self, key, method, tolerance)\u001b[0m\n\u001b[0;32m   3620\u001b[0m \u001b[38;5;28;01mtry\u001b[39;00m:\n\u001b[1;32m-> 3621\u001b[0m     \u001b[38;5;28;01mreturn\u001b[39;00m \u001b[38;5;28;43mself\u001b[39;49m\u001b[38;5;241;43m.\u001b[39;49m\u001b[43m_engine\u001b[49m\u001b[38;5;241;43m.\u001b[39;49m\u001b[43mget_loc\u001b[49m\u001b[43m(\u001b[49m\u001b[43mcasted_key\u001b[49m\u001b[43m)\u001b[49m\n\u001b[0;32m   3622\u001b[0m \u001b[38;5;28;01mexcept\u001b[39;00m \u001b[38;5;167;01mKeyError\u001b[39;00m \u001b[38;5;28;01mas\u001b[39;00m err:\n",
      "File \u001b[1;32m~\\anaconda3\\lib\\site-packages\\pandas\\_libs\\index.pyx:136\u001b[0m, in \u001b[0;36mpandas._libs.index.IndexEngine.get_loc\u001b[1;34m()\u001b[0m\n",
      "File \u001b[1;32m~\\anaconda3\\lib\\site-packages\\pandas\\_libs\\index.pyx:163\u001b[0m, in \u001b[0;36mpandas._libs.index.IndexEngine.get_loc\u001b[1;34m()\u001b[0m\n",
      "File \u001b[1;32mpandas\\_libs\\hashtable_class_helper.pxi:5198\u001b[0m, in \u001b[0;36mpandas._libs.hashtable.PyObjectHashTable.get_item\u001b[1;34m()\u001b[0m\n",
      "File \u001b[1;32mpandas\\_libs\\hashtable_class_helper.pxi:5206\u001b[0m, in \u001b[0;36mpandas._libs.hashtable.PyObjectHashTable.get_item\u001b[1;34m()\u001b[0m\n",
      "\u001b[1;31mKeyError\u001b[0m: None",
      "\nThe above exception was the direct cause of the following exception:\n",
      "\u001b[1;31mKeyError\u001b[0m                                  Traceback (most recent call last)",
      "Input \u001b[1;32mIn [57]\u001b[0m, in \u001b[0;36m<cell line: 1>\u001b[1;34m()\u001b[0m\n\u001b[1;32m----> 1\u001b[0m final_df \u001b[38;5;241m=\u001b[39m \u001b[43mservice_request_df\u001b[49m\u001b[43m[\u001b[49m\u001b[43mnew_df\u001b[49m\u001b[43m]\u001b[49m\u001b[38;5;241m.\u001b[39mindex\n",
      "File \u001b[1;32m~\\anaconda3\\lib\\site-packages\\pandas\\core\\frame.py:3505\u001b[0m, in \u001b[0;36mDataFrame.__getitem__\u001b[1;34m(self, key)\u001b[0m\n\u001b[0;32m   3503\u001b[0m \u001b[38;5;28;01mif\u001b[39;00m \u001b[38;5;28mself\u001b[39m\u001b[38;5;241m.\u001b[39mcolumns\u001b[38;5;241m.\u001b[39mnlevels \u001b[38;5;241m>\u001b[39m \u001b[38;5;241m1\u001b[39m:\n\u001b[0;32m   3504\u001b[0m     \u001b[38;5;28;01mreturn\u001b[39;00m \u001b[38;5;28mself\u001b[39m\u001b[38;5;241m.\u001b[39m_getitem_multilevel(key)\n\u001b[1;32m-> 3505\u001b[0m indexer \u001b[38;5;241m=\u001b[39m \u001b[38;5;28;43mself\u001b[39;49m\u001b[38;5;241;43m.\u001b[39;49m\u001b[43mcolumns\u001b[49m\u001b[38;5;241;43m.\u001b[39;49m\u001b[43mget_loc\u001b[49m\u001b[43m(\u001b[49m\u001b[43mkey\u001b[49m\u001b[43m)\u001b[49m\n\u001b[0;32m   3506\u001b[0m \u001b[38;5;28;01mif\u001b[39;00m is_integer(indexer):\n\u001b[0;32m   3507\u001b[0m     indexer \u001b[38;5;241m=\u001b[39m [indexer]\n",
      "File \u001b[1;32m~\\anaconda3\\lib\\site-packages\\pandas\\core\\indexes\\base.py:3623\u001b[0m, in \u001b[0;36mIndex.get_loc\u001b[1;34m(self, key, method, tolerance)\u001b[0m\n\u001b[0;32m   3621\u001b[0m     \u001b[38;5;28;01mreturn\u001b[39;00m \u001b[38;5;28mself\u001b[39m\u001b[38;5;241m.\u001b[39m_engine\u001b[38;5;241m.\u001b[39mget_loc(casted_key)\n\u001b[0;32m   3622\u001b[0m \u001b[38;5;28;01mexcept\u001b[39;00m \u001b[38;5;167;01mKeyError\u001b[39;00m \u001b[38;5;28;01mas\u001b[39;00m err:\n\u001b[1;32m-> 3623\u001b[0m     \u001b[38;5;28;01mraise\u001b[39;00m \u001b[38;5;167;01mKeyError\u001b[39;00m(key) \u001b[38;5;28;01mfrom\u001b[39;00m \u001b[38;5;21;01merr\u001b[39;00m\n\u001b[0;32m   3624\u001b[0m \u001b[38;5;28;01mexcept\u001b[39;00m \u001b[38;5;167;01mTypeError\u001b[39;00m:\n\u001b[0;32m   3625\u001b[0m     \u001b[38;5;66;03m# If we have a listlike key, _check_indexing_error will raise\u001b[39;00m\n\u001b[0;32m   3626\u001b[0m     \u001b[38;5;66;03m#  InvalidIndexError. Otherwise we fall through and re-raise\u001b[39;00m\n\u001b[0;32m   3627\u001b[0m     \u001b[38;5;66;03m#  the TypeError.\u001b[39;00m\n\u001b[0;32m   3628\u001b[0m     \u001b[38;5;28mself\u001b[39m\u001b[38;5;241m.\u001b[39m_check_indexing_error(key)\n",
      "\u001b[1;31mKeyError\u001b[0m: None"
     ]
    }
   ],
   "source": [
    "final_df = service_request_df[new_df].index"
   ]
  },
  {
   "cell_type": "markdown",
   "id": "c11a79ca",
   "metadata": {},
   "source": [
    "2.4.2 Draw hexbin plots for complaint concentration across Brooklyn"
   ]
  },
  {
   "cell_type": "code",
   "execution_count": 58,
   "id": "0c908812",
   "metadata": {},
   "outputs": [
    {
     "ename": "NameError",
     "evalue": "name 'x' is not defined",
     "output_type": "error",
     "traceback": [
      "\u001b[1;31m---------------------------------------------------------------------------\u001b[0m",
      "\u001b[1;31mNameError\u001b[0m                                 Traceback (most recent call last)",
      "Input \u001b[1;32mIn [58]\u001b[0m, in \u001b[0;36m<cell line: 1>\u001b[1;34m()\u001b[0m\n\u001b[1;32m----> 1\u001b[0m plt\u001b[38;5;241m.\u001b[39mhexbin(\u001b[43mx\u001b[49m,y,gridsize\u001b[38;5;241m=\u001b[39m\u001b[38;5;241m15\u001b[39m, mincnt\u001b[38;5;241m=\u001b[39m\u001b[38;5;241m1\u001b[39m, edgecolors\u001b[38;5;241m=\u001b[39m\u001b[38;5;124m\"\u001b[39m\u001b[38;5;124mnone\u001b[39m\u001b[38;5;124m\"\u001b[39m, cmap\u001b[38;5;241m=\u001b[39m\u001b[38;5;124m\"\u001b[39m\u001b[38;5;124minferno\u001b[39m\u001b[38;5;124m\"\u001b[39m)\n\u001b[0;32m      2\u001b[0m plt\u001b[38;5;241m.\u001b[39mscatter(x,y, s\u001b[38;5;241m=\u001b[39m\u001b[38;5;241m2\u001b[39m, c\u001b[38;5;241m=\u001b[39m\u001b[38;5;124m\"\u001b[39m\u001b[38;5;124mwhite\u001b[39m\u001b[38;5;124m\"\u001b[39m)\n\u001b[0;32m      3\u001b[0m plt\u001b[38;5;241m.\u001b[39mshow()\n",
      "\u001b[1;31mNameError\u001b[0m: name 'x' is not defined"
     ]
    }
   ],
   "source": [
    "plt.hexbin(x,y,gridsize=15, mincnt=1, edgecolors=\"none\", cmap=\"inferno\")\n",
    "plt.scatter(x,y, s=2, c=\"white\")\n",
    "plt.show()"
   ]
  },
  {
   "cell_type": "code",
   "execution_count": 59,
   "id": "3e321602",
   "metadata": {},
   "outputs": [
    {
     "ename": "NameError",
     "evalue": "name 'Longitude' is not defined",
     "output_type": "error",
     "traceback": [
      "\u001b[1;31m---------------------------------------------------------------------------\u001b[0m",
      "\u001b[1;31mNameError\u001b[0m                                 Traceback (most recent call last)",
      "Input \u001b[1;32mIn [59]\u001b[0m, in \u001b[0;36m<cell line: 1>\u001b[1;34m()\u001b[0m\n\u001b[1;32m----> 1\u001b[0m x \u001b[38;5;241m=\u001b[39m \u001b[43mLongitude\u001b[49m(size\u001b[38;5;241m=\u001b[39m(\u001b[38;5;241m1\u001b[39m, \u001b[38;5;241m10000\u001b[39m))\n\u001b[0;32m      2\u001b[0m y \u001b[38;5;241m=\u001b[39m Latitude(size\u001b[38;5;241m=\u001b[39m(\u001b[38;5;241m1\u001b[39m, \u001b[38;5;241m10000\u001b[39m))\n\u001b[0;32m      3\u001b[0m plt\u001b[38;5;241m.\u001b[39mhexbin(x, y, gridsize\u001b[38;5;241m=\u001b[39m\u001b[38;5;241m35\u001b[39m, cmap\u001b[38;5;241m=\u001b[39m\u001b[38;5;124m\"\u001b[39m\u001b[38;5;124mplasma\u001b[39m\u001b[38;5;124m\"\u001b[39m)\n",
      "\u001b[1;31mNameError\u001b[0m: name 'Longitude' is not defined"
     ]
    }
   ],
   "source": [
    "x = Longitude(size=(1, 10000))\n",
    "y = Latitude(size=(1, 10000))\n",
    "plt.hexbin(x, y, gridsize=35, cmap=\"plasma\")"
   ]
  },
  {
   "cell_type": "code",
   "execution_count": 60,
   "id": "99ac63a5",
   "metadata": {},
   "outputs": [
    {
     "ename": "ValueError",
     "evalue": "First argument must be a sequence",
     "output_type": "error",
     "traceback": [
      "\u001b[1;31m---------------------------------------------------------------------------\u001b[0m",
      "\u001b[1;31mValueError\u001b[0m                                Traceback (most recent call last)",
      "Input \u001b[1;32mIn [60]\u001b[0m, in \u001b[0;36m<cell line: 1>\u001b[1;34m()\u001b[0m\n\u001b[1;32m----> 1\u001b[0m \u001b[43mplt\u001b[49m\u001b[38;5;241;43m.\u001b[39;49m\u001b[43mhexbin\u001b[49m\u001b[43m(\u001b[49m\u001b[43mx\u001b[49m\u001b[38;5;241;43m=\u001b[39;49m\u001b[38;5;124;43m'\u001b[39;49m\u001b[38;5;124;43mLongitude\u001b[39;49m\u001b[38;5;124;43m'\u001b[39;49m\u001b[43m,\u001b[49m\u001b[43my\u001b[49m\u001b[38;5;241;43m=\u001b[39;49m\u001b[38;5;124;43m'\u001b[39;49m\u001b[38;5;124;43mLatitude\u001b[39;49m\u001b[38;5;124;43m'\u001b[39;49m\u001b[43m,\u001b[49m\u001b[43mgridsize\u001b[49m\u001b[43m \u001b[49m\u001b[38;5;241;43m=\u001b[39;49m\u001b[43m \u001b[49m\u001b[38;5;241;43m50\u001b[39;49m\u001b[43m,\u001b[49m\u001b[43mcmap\u001b[49m\u001b[43m \u001b[49m\u001b[38;5;241;43m=\u001b[39;49m\u001b[38;5;124;43m'\u001b[39;49m\u001b[38;5;124;43mgreens\u001b[39;49m\u001b[38;5;124;43m'\u001b[39;49m\u001b[43m)\u001b[49m\n\u001b[0;32m      2\u001b[0m plt\u001b[38;5;241m.\u001b[39mtitle(\u001b[38;5;124m'\u001b[39m\u001b[38;5;124mConcentration across BROOKLYN\u001b[39m\u001b[38;5;124m'\u001b[39m)\n\u001b[0;32m      3\u001b[0m plt\u001b[38;5;241m.\u001b[39mshow()\n",
      "File \u001b[1;32m~\\anaconda3\\lib\\site-packages\\matplotlib\\pyplot.py:2572\u001b[0m, in \u001b[0;36mhexbin\u001b[1;34m(x, y, C, gridsize, bins, xscale, yscale, extent, cmap, norm, vmin, vmax, alpha, linewidths, edgecolors, reduce_C_function, mincnt, marginals, data, **kwargs)\u001b[0m\n\u001b[0;32m   2565\u001b[0m \u001b[38;5;129m@_copy_docstring_and_deprecators\u001b[39m(Axes\u001b[38;5;241m.\u001b[39mhexbin)\n\u001b[0;32m   2566\u001b[0m \u001b[38;5;28;01mdef\u001b[39;00m \u001b[38;5;21mhexbin\u001b[39m(\n\u001b[0;32m   2567\u001b[0m         x, y, C\u001b[38;5;241m=\u001b[39m\u001b[38;5;28;01mNone\u001b[39;00m, gridsize\u001b[38;5;241m=\u001b[39m\u001b[38;5;241m100\u001b[39m, bins\u001b[38;5;241m=\u001b[39m\u001b[38;5;28;01mNone\u001b[39;00m, xscale\u001b[38;5;241m=\u001b[39m\u001b[38;5;124m'\u001b[39m\u001b[38;5;124mlinear\u001b[39m\u001b[38;5;124m'\u001b[39m,\n\u001b[1;32m   (...)\u001b[0m\n\u001b[0;32m   2570\u001b[0m         reduce_C_function\u001b[38;5;241m=\u001b[39mnp\u001b[38;5;241m.\u001b[39mmean, mincnt\u001b[38;5;241m=\u001b[39m\u001b[38;5;28;01mNone\u001b[39;00m, marginals\u001b[38;5;241m=\u001b[39m\u001b[38;5;28;01mFalse\u001b[39;00m, \u001b[38;5;241m*\u001b[39m,\n\u001b[0;32m   2571\u001b[0m         data\u001b[38;5;241m=\u001b[39m\u001b[38;5;28;01mNone\u001b[39;00m, \u001b[38;5;241m*\u001b[39m\u001b[38;5;241m*\u001b[39mkwargs):\n\u001b[1;32m-> 2572\u001b[0m     __ret \u001b[38;5;241m=\u001b[39m gca()\u001b[38;5;241m.\u001b[39mhexbin(\n\u001b[0;32m   2573\u001b[0m         x, y, C\u001b[38;5;241m=\u001b[39mC, gridsize\u001b[38;5;241m=\u001b[39mgridsize, bins\u001b[38;5;241m=\u001b[39mbins, xscale\u001b[38;5;241m=\u001b[39mxscale,\n\u001b[0;32m   2574\u001b[0m         yscale\u001b[38;5;241m=\u001b[39myscale, extent\u001b[38;5;241m=\u001b[39mextent, cmap\u001b[38;5;241m=\u001b[39mcmap, norm\u001b[38;5;241m=\u001b[39mnorm, vmin\u001b[38;5;241m=\u001b[39mvmin,\n\u001b[0;32m   2575\u001b[0m         vmax\u001b[38;5;241m=\u001b[39mvmax, alpha\u001b[38;5;241m=\u001b[39malpha, linewidths\u001b[38;5;241m=\u001b[39mlinewidths,\n\u001b[0;32m   2576\u001b[0m         edgecolors\u001b[38;5;241m=\u001b[39medgecolors, reduce_C_function\u001b[38;5;241m=\u001b[39mreduce_C_function,\n\u001b[0;32m   2577\u001b[0m         mincnt\u001b[38;5;241m=\u001b[39mmincnt, marginals\u001b[38;5;241m=\u001b[39mmarginals,\n\u001b[0;32m   2578\u001b[0m         \u001b[38;5;241m*\u001b[39m\u001b[38;5;241m*\u001b[39m({\u001b[38;5;124m\"\u001b[39m\u001b[38;5;124mdata\u001b[39m\u001b[38;5;124m\"\u001b[39m: data} \u001b[38;5;28;01mif\u001b[39;00m data \u001b[38;5;129;01mis\u001b[39;00m \u001b[38;5;129;01mnot\u001b[39;00m \u001b[38;5;28;01mNone\u001b[39;00m \u001b[38;5;28;01melse\u001b[39;00m {}), \u001b[38;5;241m*\u001b[39m\u001b[38;5;241m*\u001b[39mkwargs)\n\u001b[0;32m   2579\u001b[0m     sci(__ret)\n\u001b[0;32m   2580\u001b[0m     \u001b[38;5;28;01mreturn\u001b[39;00m __ret\n",
      "File \u001b[1;32m~\\anaconda3\\lib\\site-packages\\matplotlib\\__init__.py:1412\u001b[0m, in \u001b[0;36m_preprocess_data.<locals>.inner\u001b[1;34m(ax, data, *args, **kwargs)\u001b[0m\n\u001b[0;32m   1409\u001b[0m \u001b[38;5;129m@functools\u001b[39m\u001b[38;5;241m.\u001b[39mwraps(func)\n\u001b[0;32m   1410\u001b[0m \u001b[38;5;28;01mdef\u001b[39;00m \u001b[38;5;21minner\u001b[39m(ax, \u001b[38;5;241m*\u001b[39margs, data\u001b[38;5;241m=\u001b[39m\u001b[38;5;28;01mNone\u001b[39;00m, \u001b[38;5;241m*\u001b[39m\u001b[38;5;241m*\u001b[39mkwargs):\n\u001b[0;32m   1411\u001b[0m     \u001b[38;5;28;01mif\u001b[39;00m data \u001b[38;5;129;01mis\u001b[39;00m \u001b[38;5;28;01mNone\u001b[39;00m:\n\u001b[1;32m-> 1412\u001b[0m         \u001b[38;5;28;01mreturn\u001b[39;00m func(ax, \u001b[38;5;241m*\u001b[39m\u001b[38;5;28mmap\u001b[39m(sanitize_sequence, args), \u001b[38;5;241m*\u001b[39m\u001b[38;5;241m*\u001b[39mkwargs)\n\u001b[0;32m   1414\u001b[0m     bound \u001b[38;5;241m=\u001b[39m new_sig\u001b[38;5;241m.\u001b[39mbind(ax, \u001b[38;5;241m*\u001b[39margs, \u001b[38;5;241m*\u001b[39m\u001b[38;5;241m*\u001b[39mkwargs)\n\u001b[0;32m   1415\u001b[0m     auto_label \u001b[38;5;241m=\u001b[39m (bound\u001b[38;5;241m.\u001b[39marguments\u001b[38;5;241m.\u001b[39mget(label_namer)\n\u001b[0;32m   1416\u001b[0m                   \u001b[38;5;129;01mor\u001b[39;00m bound\u001b[38;5;241m.\u001b[39mkwargs\u001b[38;5;241m.\u001b[39mget(label_namer))\n",
      "File \u001b[1;32m~\\anaconda3\\lib\\site-packages\\matplotlib\\axes\\_axes.py:4637\u001b[0m, in \u001b[0;36mAxes.hexbin\u001b[1;34m(self, x, y, C, gridsize, bins, xscale, yscale, extent, cmap, norm, vmin, vmax, alpha, linewidths, edgecolors, reduce_C_function, mincnt, marginals, **kwargs)\u001b[0m\n\u001b[0;32m   4500\u001b[0m \u001b[38;5;124;03m\"\"\"\u001b[39;00m\n\u001b[0;32m   4501\u001b[0m \u001b[38;5;124;03mMake a 2D hexagonal binning plot of points *x*, *y*.\u001b[39;00m\n\u001b[0;32m   4502\u001b[0m \n\u001b[1;32m   (...)\u001b[0m\n\u001b[0;32m   4633\u001b[0m \u001b[38;5;124;03mhist2d : 2D histogram rectangular bins\u001b[39;00m\n\u001b[0;32m   4634\u001b[0m \u001b[38;5;124;03m\"\"\"\u001b[39;00m\n\u001b[0;32m   4635\u001b[0m \u001b[38;5;28mself\u001b[39m\u001b[38;5;241m.\u001b[39m_process_unit_info([(\u001b[38;5;124m\"\u001b[39m\u001b[38;5;124mx\u001b[39m\u001b[38;5;124m\"\u001b[39m, x), (\u001b[38;5;124m\"\u001b[39m\u001b[38;5;124my\u001b[39m\u001b[38;5;124m\"\u001b[39m, y)], kwargs, convert\u001b[38;5;241m=\u001b[39m\u001b[38;5;28;01mFalse\u001b[39;00m)\n\u001b[1;32m-> 4637\u001b[0m x, y, C \u001b[38;5;241m=\u001b[39m \u001b[43mcbook\u001b[49m\u001b[38;5;241;43m.\u001b[39;49m\u001b[43mdelete_masked_points\u001b[49m\u001b[43m(\u001b[49m\u001b[43mx\u001b[49m\u001b[43m,\u001b[49m\u001b[43m \u001b[49m\u001b[43my\u001b[49m\u001b[43m,\u001b[49m\u001b[43m \u001b[49m\u001b[43mC\u001b[49m\u001b[43m)\u001b[49m\n\u001b[0;32m   4639\u001b[0m \u001b[38;5;66;03m# Set the size of the hexagon grid\u001b[39;00m\n\u001b[0;32m   4640\u001b[0m \u001b[38;5;28;01mif\u001b[39;00m np\u001b[38;5;241m.\u001b[39miterable(gridsize):\n",
      "File \u001b[1;32m~\\anaconda3\\lib\\site-packages\\matplotlib\\cbook\\__init__.py:938\u001b[0m, in \u001b[0;36mdelete_masked_points\u001b[1;34m(*args)\u001b[0m\n\u001b[0;32m    936\u001b[0m     \u001b[38;5;28;01mreturn\u001b[39;00m ()\n\u001b[0;32m    937\u001b[0m \u001b[38;5;28;01mif\u001b[39;00m is_scalar_or_string(args[\u001b[38;5;241m0\u001b[39m]):\n\u001b[1;32m--> 938\u001b[0m     \u001b[38;5;28;01mraise\u001b[39;00m \u001b[38;5;167;01mValueError\u001b[39;00m(\u001b[38;5;124m\"\u001b[39m\u001b[38;5;124mFirst argument must be a sequence\u001b[39m\u001b[38;5;124m\"\u001b[39m)\n\u001b[0;32m    939\u001b[0m nrecs \u001b[38;5;241m=\u001b[39m \u001b[38;5;28mlen\u001b[39m(args[\u001b[38;5;241m0\u001b[39m])\n\u001b[0;32m    940\u001b[0m margs \u001b[38;5;241m=\u001b[39m []\n",
      "\u001b[1;31mValueError\u001b[0m: First argument must be a sequence"
     ]
    },
    {
     "data": {
      "image/png": "[encoded data removed]",
      "text/plain": [
       "<Figure size 540x252 with 1 Axes>"
      ]
     },
     "metadata": {
      "needs_background": "light"
     },
     "output_type": "display_data"
    }
   ],
   "source": [
    "plt.hexbin(x='Longitude',y='Latitude',gridsize = 50,cmap ='greens')\n",
    "plt.title('Concentration across BROOKLYN')\n",
    "plt.show()"
   ]
  },
  {
   "cell_type": "code",
   "execution_count": 61,
   "id": "d4a124bc",
   "metadata": {},
   "outputs": [
    {
     "ename": "ValueError",
     "evalue": "could not convert string to float: 'no info'",
     "output_type": "error",
     "traceback": [
      "\u001b[1;31m---------------------------------------------------------------------------\u001b[0m",
      "\u001b[1;31mValueError\u001b[0m                                Traceback (most recent call last)",
      "Input \u001b[1;32mIn [61]\u001b[0m, in \u001b[0;36m<cell line: 1>\u001b[1;34m()\u001b[0m\n\u001b[1;32m----> 1\u001b[0m \u001b[43mservice_request_df\u001b[49m\u001b[43m[\u001b[49m\u001b[43m[\u001b[49m\u001b[38;5;124;43m'\u001b[39;49m\u001b[38;5;124;43mLongitude\u001b[39;49m\u001b[38;5;124;43m'\u001b[39;49m\u001b[43m,\u001b[49m\u001b[38;5;124;43m'\u001b[39;49m\u001b[38;5;124;43mLatitude\u001b[39;49m\u001b[38;5;124;43m'\u001b[39;49m\u001b[43m]\u001b[49m\u001b[43m]\u001b[49m\u001b[38;5;241;43m.\u001b[39;49m\u001b[43mplot\u001b[49m\u001b[43m(\u001b[49m\u001b[43mkind\u001b[49m\u001b[38;5;241;43m=\u001b[39;49m\u001b[38;5;124;43m'\u001b[39;49m\u001b[38;5;124;43mscatter\u001b[39;49m\u001b[38;5;124;43m'\u001b[39;49m\u001b[43m,\u001b[49m\n\u001b[0;32m      2\u001b[0m \u001b[43m    \u001b[49m\u001b[43mx\u001b[49m\u001b[38;5;241;43m=\u001b[39;49m\u001b[38;5;124;43m'\u001b[39;49m\u001b[38;5;124;43mLongitude\u001b[39;49m\u001b[38;5;124;43m'\u001b[39;49m\u001b[43m,\u001b[49m\u001b[43m \u001b[49m\u001b[43my\u001b[49m\u001b[38;5;241;43m=\u001b[39;49m\u001b[38;5;124;43m'\u001b[39;49m\u001b[38;5;124;43mLatitude\u001b[39;49m\u001b[38;5;124;43m'\u001b[39;49m\u001b[43m,\u001b[49m\u001b[43m \u001b[49m\u001b[43mfigsize\u001b[49m\u001b[38;5;241;43m=\u001b[39;49m\u001b[43m(\u001b[49m\u001b[38;5;241;43m15\u001b[39;49m\u001b[43m,\u001b[49m\u001b[38;5;241;43m10\u001b[39;49m\u001b[43m)\u001b[49m\u001b[43m,\u001b[49m\u001b[43mtitle\u001b[49m\u001b[43m \u001b[49m\u001b[38;5;241;43m=\u001b[39;49m\u001b[43m \u001b[49m\u001b[38;5;124;43m'\u001b[39;49m\u001b[38;5;124;43mComplaints_concentration across Brooklyn\u001b[39;49m\u001b[38;5;124;43m'\u001b[39;49m\u001b[43m)\u001b[49m\u001b[38;5;241m.\u001b[39maxis(\u001b[38;5;124m'\u001b[39m\u001b[38;5;124mequal\u001b[39m\u001b[38;5;124m'\u001b[39m)\n",
      "File \u001b[1;32m~\\anaconda3\\lib\\site-packages\\pandas\\plotting\\_core.py:917\u001b[0m, in \u001b[0;36mPlotAccessor.__call__\u001b[1;34m(self, *args, **kwargs)\u001b[0m\n\u001b[0;32m    915\u001b[0m \u001b[38;5;28;01mif\u001b[39;00m kind \u001b[38;5;129;01min\u001b[39;00m \u001b[38;5;28mself\u001b[39m\u001b[38;5;241m.\u001b[39m_dataframe_kinds:\n\u001b[0;32m    916\u001b[0m     \u001b[38;5;28;01mif\u001b[39;00m \u001b[38;5;28misinstance\u001b[39m(data, ABCDataFrame):\n\u001b[1;32m--> 917\u001b[0m         \u001b[38;5;28;01mreturn\u001b[39;00m plot_backend\u001b[38;5;241m.\u001b[39mplot(data, x\u001b[38;5;241m=\u001b[39mx, y\u001b[38;5;241m=\u001b[39my, kind\u001b[38;5;241m=\u001b[39mkind, \u001b[38;5;241m*\u001b[39m\u001b[38;5;241m*\u001b[39mkwargs)\n\u001b[0;32m    918\u001b[0m     \u001b[38;5;28;01melse\u001b[39;00m:\n\u001b[0;32m    919\u001b[0m         \u001b[38;5;28;01mraise\u001b[39;00m \u001b[38;5;167;01mValueError\u001b[39;00m(\u001b[38;5;124mf\u001b[39m\u001b[38;5;124m\"\u001b[39m\u001b[38;5;124mplot kind \u001b[39m\u001b[38;5;132;01m{\u001b[39;00mkind\u001b[38;5;132;01m}\u001b[39;00m\u001b[38;5;124m can only be used for data frames\u001b[39m\u001b[38;5;124m\"\u001b[39m)\n",
      "File \u001b[1;32m~\\anaconda3\\lib\\site-packages\\pandas\\plotting\\_matplotlib\\__init__.py:71\u001b[0m, in \u001b[0;36mplot\u001b[1;34m(data, kind, **kwargs)\u001b[0m\n\u001b[0;32m     69\u001b[0m         kwargs[\u001b[38;5;124m\"\u001b[39m\u001b[38;5;124max\u001b[39m\u001b[38;5;124m\"\u001b[39m] \u001b[38;5;241m=\u001b[39m \u001b[38;5;28mgetattr\u001b[39m(ax, \u001b[38;5;124m\"\u001b[39m\u001b[38;5;124mleft_ax\u001b[39m\u001b[38;5;124m\"\u001b[39m, ax)\n\u001b[0;32m     70\u001b[0m plot_obj \u001b[38;5;241m=\u001b[39m PLOT_CLASSES[kind](data, \u001b[38;5;241m*\u001b[39m\u001b[38;5;241m*\u001b[39mkwargs)\n\u001b[1;32m---> 71\u001b[0m \u001b[43mplot_obj\u001b[49m\u001b[38;5;241;43m.\u001b[39;49m\u001b[43mgenerate\u001b[49m\u001b[43m(\u001b[49m\u001b[43m)\u001b[49m\n\u001b[0;32m     72\u001b[0m plot_obj\u001b[38;5;241m.\u001b[39mdraw()\n\u001b[0;32m     73\u001b[0m \u001b[38;5;28;01mreturn\u001b[39;00m plot_obj\u001b[38;5;241m.\u001b[39mresult\n",
      "File \u001b[1;32m~\\anaconda3\\lib\\site-packages\\pandas\\plotting\\_matplotlib\\core.py:329\u001b[0m, in \u001b[0;36mMPLPlot.generate\u001b[1;34m(self)\u001b[0m\n\u001b[0;32m    327\u001b[0m \u001b[38;5;28mself\u001b[39m\u001b[38;5;241m.\u001b[39m_compute_plot_data()\n\u001b[0;32m    328\u001b[0m \u001b[38;5;28mself\u001b[39m\u001b[38;5;241m.\u001b[39m_setup_subplots()\n\u001b[1;32m--> 329\u001b[0m \u001b[38;5;28;43mself\u001b[39;49m\u001b[38;5;241;43m.\u001b[39;49m\u001b[43m_make_plot\u001b[49m\u001b[43m(\u001b[49m\u001b[43m)\u001b[49m\n\u001b[0;32m    330\u001b[0m \u001b[38;5;28mself\u001b[39m\u001b[38;5;241m.\u001b[39m_add_table()\n\u001b[0;32m    331\u001b[0m \u001b[38;5;28mself\u001b[39m\u001b[38;5;241m.\u001b[39m_make_legend()\n",
      "File \u001b[1;32m~\\anaconda3\\lib\\site-packages\\pandas\\plotting\\_matplotlib\\core.py:1114\u001b[0m, in \u001b[0;36mScatterPlot._make_plot\u001b[1;34m(self)\u001b[0m\n\u001b[0;32m   1112\u001b[0m \u001b[38;5;28;01melse\u001b[39;00m:\n\u001b[0;32m   1113\u001b[0m     label \u001b[38;5;241m=\u001b[39m \u001b[38;5;28;01mNone\u001b[39;00m\n\u001b[1;32m-> 1114\u001b[0m scatter \u001b[38;5;241m=\u001b[39m ax\u001b[38;5;241m.\u001b[39mscatter(\n\u001b[0;32m   1115\u001b[0m     data[x]\u001b[38;5;241m.\u001b[39mvalues,\n\u001b[0;32m   1116\u001b[0m     data[y]\u001b[38;5;241m.\u001b[39mvalues,\n\u001b[0;32m   1117\u001b[0m     c\u001b[38;5;241m=\u001b[39mc_values,\n\u001b[0;32m   1118\u001b[0m     label\u001b[38;5;241m=\u001b[39mlabel,\n\u001b[0;32m   1119\u001b[0m     cmap\u001b[38;5;241m=\u001b[39mcmap,\n\u001b[0;32m   1120\u001b[0m     norm\u001b[38;5;241m=\u001b[39mnorm,\n\u001b[0;32m   1121\u001b[0m     \u001b[38;5;241m*\u001b[39m\u001b[38;5;241m*\u001b[39m\u001b[38;5;28mself\u001b[39m\u001b[38;5;241m.\u001b[39mkwds,\n\u001b[0;32m   1122\u001b[0m )\n\u001b[0;32m   1123\u001b[0m \u001b[38;5;28;01mif\u001b[39;00m cb:\n\u001b[0;32m   1124\u001b[0m     cbar_label \u001b[38;5;241m=\u001b[39m c \u001b[38;5;28;01mif\u001b[39;00m c_is_column \u001b[38;5;28;01melse\u001b[39;00m \u001b[38;5;124m\"\u001b[39m\u001b[38;5;124m\"\u001b[39m\n",
      "File \u001b[1;32m~\\anaconda3\\lib\\site-packages\\matplotlib\\__init__.py:1412\u001b[0m, in \u001b[0;36m_preprocess_data.<locals>.inner\u001b[1;34m(ax, data, *args, **kwargs)\u001b[0m\n\u001b[0;32m   1409\u001b[0m \u001b[38;5;129m@functools\u001b[39m\u001b[38;5;241m.\u001b[39mwraps(func)\n\u001b[0;32m   1410\u001b[0m \u001b[38;5;28;01mdef\u001b[39;00m \u001b[38;5;21minner\u001b[39m(ax, \u001b[38;5;241m*\u001b[39margs, data\u001b[38;5;241m=\u001b[39m\u001b[38;5;28;01mNone\u001b[39;00m, \u001b[38;5;241m*\u001b[39m\u001b[38;5;241m*\u001b[39mkwargs):\n\u001b[0;32m   1411\u001b[0m     \u001b[38;5;28;01mif\u001b[39;00m data \u001b[38;5;129;01mis\u001b[39;00m \u001b[38;5;28;01mNone\u001b[39;00m:\n\u001b[1;32m-> 1412\u001b[0m         \u001b[38;5;28;01mreturn\u001b[39;00m func(ax, \u001b[38;5;241m*\u001b[39m\u001b[38;5;28mmap\u001b[39m(sanitize_sequence, args), \u001b[38;5;241m*\u001b[39m\u001b[38;5;241m*\u001b[39mkwargs)\n\u001b[0;32m   1414\u001b[0m     bound \u001b[38;5;241m=\u001b[39m new_sig\u001b[38;5;241m.\u001b[39mbind(ax, \u001b[38;5;241m*\u001b[39margs, \u001b[38;5;241m*\u001b[39m\u001b[38;5;241m*\u001b[39mkwargs)\n\u001b[0;32m   1415\u001b[0m     auto_label \u001b[38;5;241m=\u001b[39m (bound\u001b[38;5;241m.\u001b[39marguments\u001b[38;5;241m.\u001b[39mget(label_namer)\n\u001b[0;32m   1416\u001b[0m                   \u001b[38;5;129;01mor\u001b[39;00m bound\u001b[38;5;241m.\u001b[39mkwargs\u001b[38;5;241m.\u001b[39mget(label_namer))\n",
      "File \u001b[1;32m~\\anaconda3\\lib\\site-packages\\matplotlib\\axes\\_axes.py:4458\u001b[0m, in \u001b[0;36mAxes.scatter\u001b[1;34m(self, x, y, s, c, marker, cmap, norm, vmin, vmax, alpha, linewidths, edgecolors, plotnonfinite, **kwargs)\u001b[0m\n\u001b[0;32m   4452\u001b[0m         linewidths \u001b[38;5;241m=\u001b[39m [\n\u001b[0;32m   4453\u001b[0m             lw \u001b[38;5;28;01mif\u001b[39;00m lw \u001b[38;5;129;01mis\u001b[39;00m \u001b[38;5;129;01mnot\u001b[39;00m \u001b[38;5;28;01mNone\u001b[39;00m \u001b[38;5;28;01melse\u001b[39;00m rcParams[\u001b[38;5;124m'\u001b[39m\u001b[38;5;124mlines.linewidth\u001b[39m\u001b[38;5;124m'\u001b[39m]\n\u001b[0;32m   4454\u001b[0m             \u001b[38;5;28;01mfor\u001b[39;00m lw \u001b[38;5;129;01min\u001b[39;00m linewidths]\n\u001b[0;32m   4456\u001b[0m offsets \u001b[38;5;241m=\u001b[39m np\u001b[38;5;241m.\u001b[39mma\u001b[38;5;241m.\u001b[39mcolumn_stack([x, y])\n\u001b[1;32m-> 4458\u001b[0m collection \u001b[38;5;241m=\u001b[39m \u001b[43mmcoll\u001b[49m\u001b[38;5;241;43m.\u001b[39;49m\u001b[43mPathCollection\u001b[49m\u001b[43m(\u001b[49m\n\u001b[0;32m   4459\u001b[0m \u001b[43m        \u001b[49m\u001b[43m(\u001b[49m\u001b[43mpath\u001b[49m\u001b[43m,\u001b[49m\u001b[43m)\u001b[49m\u001b[43m,\u001b[49m\u001b[43m \u001b[49m\u001b[43mscales\u001b[49m\u001b[43m,\u001b[49m\n\u001b[0;32m   4460\u001b[0m \u001b[43m        \u001b[49m\u001b[43mfacecolors\u001b[49m\u001b[38;5;241;43m=\u001b[39;49m\u001b[43mcolors\u001b[49m\u001b[43m,\u001b[49m\n\u001b[0;32m   4461\u001b[0m \u001b[43m        \u001b[49m\u001b[43medgecolors\u001b[49m\u001b[38;5;241;43m=\u001b[39;49m\u001b[43medgecolors\u001b[49m\u001b[43m,\u001b[49m\n\u001b[0;32m   4462\u001b[0m \u001b[43m        \u001b[49m\u001b[43mlinewidths\u001b[49m\u001b[38;5;241;43m=\u001b[39;49m\u001b[43mlinewidths\u001b[49m\u001b[43m,\u001b[49m\n\u001b[0;32m   4463\u001b[0m \u001b[43m        \u001b[49m\u001b[43moffsets\u001b[49m\u001b[38;5;241;43m=\u001b[39;49m\u001b[43moffsets\u001b[49m\u001b[43m,\u001b[49m\n\u001b[0;32m   4464\u001b[0m \u001b[43m        \u001b[49m\u001b[43mtransOffset\u001b[49m\u001b[38;5;241;43m=\u001b[39;49m\u001b[43mkwargs\u001b[49m\u001b[38;5;241;43m.\u001b[39;49m\u001b[43mpop\u001b[49m\u001b[43m(\u001b[49m\u001b[38;5;124;43m'\u001b[39;49m\u001b[38;5;124;43mtransform\u001b[39;49m\u001b[38;5;124;43m'\u001b[39;49m\u001b[43m,\u001b[49m\u001b[43m \u001b[49m\u001b[38;5;28;43mself\u001b[39;49m\u001b[38;5;241;43m.\u001b[39;49m\u001b[43mtransData\u001b[49m\u001b[43m)\u001b[49m\u001b[43m,\u001b[49m\n\u001b[0;32m   4465\u001b[0m \u001b[43m        \u001b[49m\u001b[43malpha\u001b[49m\u001b[38;5;241;43m=\u001b[39;49m\u001b[43malpha\u001b[49m\n\u001b[0;32m   4466\u001b[0m \u001b[43m        \u001b[49m\u001b[43m)\u001b[49m\n\u001b[0;32m   4467\u001b[0m collection\u001b[38;5;241m.\u001b[39mset_transform(mtransforms\u001b[38;5;241m.\u001b[39mIdentityTransform())\n\u001b[0;32m   4468\u001b[0m collection\u001b[38;5;241m.\u001b[39mupdate(kwargs)\n",
      "File \u001b[1;32m~\\anaconda3\\lib\\site-packages\\matplotlib\\collections.py:1013\u001b[0m, in \u001b[0;36mPathCollection.__init__\u001b[1;34m(self, paths, sizes, **kwargs)\u001b[0m\n\u001b[0;32m    999\u001b[0m \u001b[38;5;28;01mdef\u001b[39;00m \u001b[38;5;21m__init__\u001b[39m(\u001b[38;5;28mself\u001b[39m, paths, sizes\u001b[38;5;241m=\u001b[39m\u001b[38;5;28;01mNone\u001b[39;00m, \u001b[38;5;241m*\u001b[39m\u001b[38;5;241m*\u001b[39mkwargs):\n\u001b[0;32m   1000\u001b[0m     \u001b[38;5;124;03m\"\"\"\u001b[39;00m\n\u001b[0;32m   1001\u001b[0m \u001b[38;5;124;03m    Parameters\u001b[39;00m\n\u001b[0;32m   1002\u001b[0m \u001b[38;5;124;03m    ----------\u001b[39;00m\n\u001b[1;32m   (...)\u001b[0m\n\u001b[0;32m   1010\u001b[0m \u001b[38;5;124;03m        Forwarded to `.Collection`.\u001b[39;00m\n\u001b[0;32m   1011\u001b[0m \u001b[38;5;124;03m    \"\"\"\u001b[39;00m\n\u001b[1;32m-> 1013\u001b[0m     \u001b[38;5;28msuper\u001b[39m()\u001b[38;5;241m.\u001b[39m\u001b[38;5;21m__init__\u001b[39m(\u001b[38;5;241m*\u001b[39m\u001b[38;5;241m*\u001b[39mkwargs)\n\u001b[0;32m   1014\u001b[0m     \u001b[38;5;28mself\u001b[39m\u001b[38;5;241m.\u001b[39mset_paths(paths)\n\u001b[0;32m   1015\u001b[0m     \u001b[38;5;28mself\u001b[39m\u001b[38;5;241m.\u001b[39mset_sizes(sizes)\n",
      "File \u001b[1;32m~\\anaconda3\\lib\\site-packages\\matplotlib\\collections.py:200\u001b[0m, in \u001b[0;36mCollection.__init__\u001b[1;34m(self, edgecolors, facecolors, linewidths, linestyles, capstyle, joinstyle, antialiaseds, offsets, transOffset, norm, cmap, pickradius, hatch, urls, zorder, **kwargs)\u001b[0m\n\u001b[0;32m    197\u001b[0m \u001b[38;5;28mself\u001b[39m\u001b[38;5;241m.\u001b[39m_offsets \u001b[38;5;241m=\u001b[39m np\u001b[38;5;241m.\u001b[39mzeros((\u001b[38;5;241m1\u001b[39m, \u001b[38;5;241m2\u001b[39m))\n\u001b[0;32m    199\u001b[0m \u001b[38;5;28;01mif\u001b[39;00m offsets \u001b[38;5;129;01mis\u001b[39;00m \u001b[38;5;129;01mnot\u001b[39;00m \u001b[38;5;28;01mNone\u001b[39;00m:\n\u001b[1;32m--> 200\u001b[0m     offsets \u001b[38;5;241m=\u001b[39m \u001b[43mnp\u001b[49m\u001b[38;5;241;43m.\u001b[39;49m\u001b[43masanyarray\u001b[49m\u001b[43m(\u001b[49m\u001b[43moffsets\u001b[49m\u001b[43m,\u001b[49m\u001b[43m \u001b[49m\u001b[38;5;28;43mfloat\u001b[39;49m\u001b[43m)\u001b[49m\n\u001b[0;32m    201\u001b[0m     \u001b[38;5;66;03m# Broadcast (2,) -> (1, 2) but nothing else.\u001b[39;00m\n\u001b[0;32m    202\u001b[0m     \u001b[38;5;28;01mif\u001b[39;00m offsets\u001b[38;5;241m.\u001b[39mshape \u001b[38;5;241m==\u001b[39m (\u001b[38;5;241m2\u001b[39m,):\n",
      "\u001b[1;31mValueError\u001b[0m: could not convert string to float: 'no info'"
     ]
    },
    {
     "data": {
      "image/png": "[encoded data removed]",
      "text/plain": [
       "<Figure size 1080x720 with 1 Axes>"
      ]
     },
     "metadata": {
      "needs_background": "light"
     },
     "output_type": "display_data"
    }
   ],
   "source": [
    "service_request_df[['Longitude','Latitude']].plot(kind='scatter',\n",
    "    x='Longitude', y='Latitude', figsize=(15,10),title = 'Complaints_concentration across Brooklyn').axis('equal')"
   ]
  },
  {
   "cell_type": "markdown",
   "id": "1490a886",
   "metadata": {},
   "source": [
    "### i have tried multiple things for the the particular section in coding but no help.. even went ahead with hat was advised in class but still errors."
   ]
  },
  {
   "cell_type": "markdown",
   "id": "6013cd90",
   "metadata": {},
   "source": [
    "## 3. Find major types of complaints"
   ]
  },
  {
   "cell_type": "markdown",
   "id": "d42aa960",
   "metadata": {},
   "source": [
    "3.1 Plot a bar graph of count vs. complaint types"
   ]
  },
  {
   "cell_type": "code",
   "execution_count": 73,
   "id": "e5f6b078",
   "metadata": {},
   "outputs": [
    {
     "data": {
      "text/plain": [
       "Blocked Driveway             100881\n",
       "Illegal Parking               92679\n",
       "Noise - Street/Sidewalk       51692\n",
       "Noise - Commercial            44109\n",
       "Derelict Vehicle              21661\n",
       "Noise - Vehicle               19352\n",
       "Animal Abuse                  10541\n",
       "Traffic                        5198\n",
       "Homeless Encampment            4879\n",
       "Vending                        4192\n",
       "Noise - Park                   4109\n",
       "Drinking                       1409\n",
       "Noise - House of Worship       1070\n",
       "Posting Advertisement           681\n",
       "Urinating in Public             641\n",
       "Bike/Roller/Skate Chronic       478\n",
       "Panhandling                     327\n",
       "Disorderly Youth                315\n",
       "Illegal Fireworks               172\n",
       "Graffiti                        157\n",
       "Agency Issues                     8\n",
       "Squeegee                          4\n",
       "Ferry Complaint                   2\n",
       "Animal in a Park                  1\n",
       "Name: Complaint Type, dtype: int64"
      ]
     },
     "execution_count": 73,
     "metadata": {},
     "output_type": "execute_result"
    }
   ],
   "source": [
    "service_request_df['Complaint Type'].value_counts()"
   ]
  },
  {
   "cell_type": "code",
   "execution_count": 74,
   "id": "7f7ac4cf",
   "metadata": {},
   "outputs": [
    {
     "data": {
      "text/plain": [
       "[Text(0, 0, 'Noise - Street/Sidewalk'),\n",
       " Text(1, 0, 'Blocked Driveway'),\n",
       " Text(2, 0, 'Illegal Parking'),\n",
       " Text(3, 0, 'Derelict Vehicle'),\n",
       " Text(4, 0, 'Noise - Commercial'),\n",
       " Text(5, 0, 'Noise - House of Worship'),\n",
       " Text(6, 0, 'Posting Advertisement'),\n",
       " Text(7, 0, 'Noise - Vehicle'),\n",
       " Text(8, 0, 'Animal Abuse'),\n",
       " Text(9, 0, 'Vending'),\n",
       " Text(10, 0, 'Traffic'),\n",
       " Text(11, 0, 'Drinking'),\n",
       " Text(12, 0, 'Bike/Roller/Skate Chronic'),\n",
       " Text(13, 0, 'Panhandling'),\n",
       " Text(14, 0, 'Noise - Park'),\n",
       " Text(15, 0, 'Homeless Encampment'),\n",
       " Text(16, 0, 'Urinating in Public'),\n",
       " Text(17, 0, 'Graffiti'),\n",
       " Text(18, 0, 'Disorderly Youth'),\n",
       " Text(19, 0, 'Illegal Fireworks'),\n",
       " Text(20, 0, 'Ferry Complaint'),\n",
       " Text(21, 0, 'Agency Issues'),\n",
       " Text(22, 0, 'Squeegee'),\n",
       " Text(23, 0, 'Animal in a Park')]"
      ]
     },
     "execution_count": 74,
     "metadata": {},
     "output_type": "execute_result"
    },
    {
     "data": {
      "image/png": "[encoded data removed]",
      "text/plain": [
       "<Figure size 540x252 with 1 Axes>"
      ]
     },
     "metadata": {
      "needs_background": "light"
     },
     "output_type": "display_data"
    }
   ],
   "source": [
    "plot = sns.countplot(x='Complaint Type', data=service_request_df)\n",
    "plot.set_xticklabels(plot.get_xticklabels(),rotation=90)"
   ]
  },
  {
   "cell_type": "markdown",
   "id": "fad0eb15",
   "metadata": {},
   "source": [
    "3.2 Find the top 10 types of complaints"
   ]
  },
  {
   "cell_type": "code",
   "execution_count": 80,
   "id": "655bed96",
   "metadata": {},
   "outputs": [
    {
     "data": {
      "text/plain": [
       "Blocked Driveway           100881\n",
       "Illegal Parking             92679\n",
       "Noise - Street/Sidewalk     51692\n",
       "Noise - Commercial          44109\n",
       "Derelict Vehicle            21661\n",
       "Noise - Vehicle             19352\n",
       "Animal Abuse                10541\n",
       "Traffic                      5198\n",
       "Homeless Encampment          4879\n",
       "Vending                      4192\n",
       "Name: Complaint Type, dtype: int64"
      ]
     },
     "execution_count": 80,
     "metadata": {},
     "output_type": "execute_result"
    }
   ],
   "source": [
    "Top10_new = service_request_df['Complaint Type'].value_counts().head(10)\n",
    "Top10_new"
   ]
  },
  {
   "cell_type": "markdown",
   "id": "4e638bfa",
   "metadata": {},
   "source": [
    "3.3 Display the types of complaints in each city in a separate dataset"
   ]
  },
  {
   "cell_type": "code",
   "execution_count": 86,
   "id": "402d554f",
   "metadata": {},
   "outputs": [
    {
     "data": {
      "image/png": "[encoded data removed]",
      "text/plain": [
       "<Figure size 540x252 with 1 Axes>"
      ]
     },
     "metadata": {
      "needs_background": "light"
     },
     "output_type": "display_data"
    }
   ],
   "source": [
    "plt.scatter(city_complaints['City'],city_complaints['Complaint Type'])\n",
    "plt.xlabel('BROOKLYN')\n",
    "plt.ylabel('Complaint Type')\n",
    "plt.title('BROOKLYN - Complaint Type Reltionship Study')\n",
    "plt.show()"
   ]
  },
  {
   "cell_type": "markdown",
   "id": "ff6dabe4",
   "metadata": {},
   "source": [
    "Bar chart - No. of complaint in Y axis. Group BY complaint types"
   ]
  },
  {
   "cell_type": "markdown",
   "id": "512bcd73",
   "metadata": {},
   "source": [
    "## 4. Visualize the major types of complaints in each city"
   ]
  },
  {
   "cell_type": "code",
   "execution_count": 82,
   "id": "9fed5ce1",
   "metadata": {},
   "outputs": [],
   "source": [
    "city_complaints = service_request_df[['City','Complaint Type']]"
   ]
  },
  {
   "cell_type": "code",
   "execution_count": 83,
   "id": "eb084319",
   "metadata": {},
   "outputs": [
    {
     "data": {
      "text/plain": [
       "<bound method NDFrame.head of                     City           Complaint Type\n",
       "0               NEW YORK  Noise - Street/Sidewalk\n",
       "1                ASTORIA         Blocked Driveway\n",
       "2                  BRONX         Blocked Driveway\n",
       "3                  BRONX          Illegal Parking\n",
       "4               ELMHURST          Illegal Parking\n",
       "...                  ...                      ...\n",
       "364553         WOODHAVEN          Illegal Parking\n",
       "364554             BRONX          Noise - Vehicle\n",
       "364555          NEW YORK  Noise - Street/Sidewalk\n",
       "364556             BRONX         Blocked Driveway\n",
       "364557  SOUTH OZONE PARK         Blocked Driveway\n",
       "\n",
       "[364558 rows x 2 columns]>"
      ]
     },
     "execution_count": 83,
     "metadata": {},
     "output_type": "execute_result"
    }
   ],
   "source": [
    "city_complaints.head"
   ]
  },
  {
   "cell_type": "code",
   "execution_count": 84,
   "id": "68c4b879",
   "metadata": {},
   "outputs": [
    {
     "data": {
      "text/plain": [
       "[Text(0, 0, 'NEW YORK'),\n",
       " Text(1, 0, 'ASTORIA'),\n",
       " Text(2, 0, 'BRONX'),\n",
       " Text(3, 0, 'ELMHURST'),\n",
       " Text(4, 0, 'BROOKLYN'),\n",
       " Text(5, 0, 'KEW GARDENS'),\n",
       " Text(6, 0, 'JACKSON HEIGHTS'),\n",
       " Text(7, 0, 'MIDDLE VILLAGE'),\n",
       " Text(8, 0, 'REGO PARK'),\n",
       " Text(9, 0, 'SAINT ALBANS'),\n",
       " Text(10, 0, 'JAMAICA'),\n",
       " Text(11, 0, 'SOUTH RICHMOND HILL'),\n",
       " Text(12, 0, 'no info'),\n",
       " Text(13, 0, 'RIDGEWOOD'),\n",
       " Text(14, 0, 'HOWARD BEACH'),\n",
       " Text(15, 0, 'FOREST HILLS'),\n",
       " Text(16, 0, 'STATEN ISLAND'),\n",
       " Text(17, 0, 'OZONE PARK'),\n",
       " Text(18, 0, 'RICHMOND HILL'),\n",
       " Text(19, 0, 'WOODHAVEN'),\n",
       " Text(20, 0, 'FLUSHING'),\n",
       " Text(21, 0, 'CORONA'),\n",
       " Text(22, 0, 'QUEENS VILLAGE'),\n",
       " Text(23, 0, 'OAKLAND GARDENS'),\n",
       " Text(24, 0, 'HOLLIS'),\n",
       " Text(25, 0, 'MASPETH'),\n",
       " Text(26, 0, 'EAST ELMHURST'),\n",
       " Text(27, 0, 'SOUTH OZONE PARK'),\n",
       " Text(28, 0, 'WOODSIDE'),\n",
       " Text(29, 0, 'FRESH MEADOWS'),\n",
       " Text(30, 0, 'LONG ISLAND CITY'),\n",
       " Text(31, 0, 'ROCKAWAY PARK'),\n",
       " Text(32, 0, 'SPRINGFIELD GARDENS'),\n",
       " Text(33, 0, 'COLLEGE POINT'),\n",
       " Text(34, 0, 'BAYSIDE'),\n",
       " Text(35, 0, 'GLEN OAKS'),\n",
       " Text(36, 0, 'FAR ROCKAWAY'),\n",
       " Text(37, 0, 'BELLEROSE'),\n",
       " Text(38, 0, 'LITTLE NECK'),\n",
       " Text(39, 0, 'CAMBRIA HEIGHTS'),\n",
       " Text(40, 0, 'ROSEDALE'),\n",
       " Text(41, 0, 'SUNNYSIDE'),\n",
       " Text(42, 0, 'WHITESTONE'),\n",
       " Text(43, 0, 'ARVERNE'),\n",
       " Text(44, 0, 'FLORAL PARK'),\n",
       " Text(45, 0, 'NEW HYDE PARK'),\n",
       " Text(46, 0, 'CENTRAL PARK'),\n",
       " Text(47, 0, 'BREEZY POINT'),\n",
       " Text(48, 0, 'QUEENS'),\n",
       " Text(49, 0, 'Astoria'),\n",
       " Text(50, 0, 'Long Island City'),\n",
       " Text(51, 0, 'Woodside'),\n",
       " Text(52, 0, 'East Elmhurst'),\n",
       " Text(53, 0, 'Howard Beach')]"
      ]
     },
     "execution_count": 84,
     "metadata": {},
     "output_type": "execute_result"
    },
    {
     "data": {
      "image/png": "[encoded data removed]",
      "text/plain": [
       "<Figure size 540x252 with 1 Axes>"
      ]
     },
     "metadata": {
      "needs_background": "light"
     },
     "output_type": "display_data"
    }
   ],
   "source": [
    "plot = sns.countplot(x='City', data=city_complaints)\n",
    "plot.set_xticklabels(plot.get_xticklabels(),rotation=90)"
   ]
  },
  {
   "cell_type": "code",
   "execution_count": 85,
   "id": "c60d8941",
   "metadata": {},
   "outputs": [
    {
     "data": {
      "image/png": "[encoded data removed]",
      "text/plain": [
       "<Figure size 540x252 with 1 Axes>"
      ]
     },
     "metadata": {
      "needs_background": "light"
     },
     "output_type": "display_data"
    }
   ],
   "source": [
    "plt.scatter(city_complaints['City'],city_complaints['Complaint Type'])\n",
    "plt.xlabel('BROOKLYN')\n",
    "plt.ylabel('Complaint Type')\n",
    "plt.title('BROOKLYN - Complaint Type Reltionship Study')\n",
    "plt.show()"
   ]
  },
  {
   "cell_type": "markdown",
   "id": "5c0ea647",
   "metadata": {},
   "source": [
    "## 5. Check if the average response time across various types of complaints"
   ]
  },
  {
   "cell_type": "code",
   "execution_count": 87,
   "id": "e03ab70c",
   "metadata": {},
   "outputs": [],
   "source": [
    "import datetime"
   ]
  },
  {
   "cell_type": "code",
   "execution_count": 88,
   "id": "8501fdf3",
   "metadata": {},
   "outputs": [
    {
     "ename": "ParserError",
     "evalue": "Unknown string format: no info",
     "output_type": "error",
     "traceback": [
      "\u001b[1;31m---------------------------------------------------------------------------\u001b[0m",
      "\u001b[1;31mTypeError\u001b[0m                                 Traceback (most recent call last)",
      "File \u001b[1;32m~\\anaconda3\\lib\\site-packages\\pandas\\core\\arrays\\datetimes.py:2211\u001b[0m, in \u001b[0;36mobjects_to_datetime64ns\u001b[1;34m(data, dayfirst, yearfirst, utc, errors, require_iso8601, allow_object, allow_mixed)\u001b[0m\n\u001b[0;32m   2210\u001b[0m \u001b[38;5;28;01mtry\u001b[39;00m:\n\u001b[1;32m-> 2211\u001b[0m     values, tz_parsed \u001b[38;5;241m=\u001b[39m \u001b[43mconversion\u001b[49m\u001b[38;5;241;43m.\u001b[39;49m\u001b[43mdatetime_to_datetime64\u001b[49m\u001b[43m(\u001b[49m\u001b[43mdata\u001b[49m\u001b[38;5;241;43m.\u001b[39;49m\u001b[43mravel\u001b[49m\u001b[43m(\u001b[49m\u001b[38;5;124;43m\"\u001b[39;49m\u001b[38;5;124;43mK\u001b[39;49m\u001b[38;5;124;43m\"\u001b[39;49m\u001b[43m)\u001b[49m\u001b[43m)\u001b[49m\n\u001b[0;32m   2212\u001b[0m     \u001b[38;5;66;03m# If tzaware, these values represent unix timestamps, so we\u001b[39;00m\n\u001b[0;32m   2213\u001b[0m     \u001b[38;5;66;03m#  return them as i8 to distinguish from wall times\u001b[39;00m\n",
      "File \u001b[1;32m~\\anaconda3\\lib\\site-packages\\pandas\\_libs\\tslibs\\conversion.pyx:360\u001b[0m, in \u001b[0;36mpandas._libs.tslibs.conversion.datetime_to_datetime64\u001b[1;34m()\u001b[0m\n",
      "\u001b[1;31mTypeError\u001b[0m: Unrecognized value type: <class 'str'>",
      "\nDuring handling of the above exception, another exception occurred:\n",
      "\u001b[1;31mParserError\u001b[0m                               Traceback (most recent call last)",
      "Input \u001b[1;32mIn [88]\u001b[0m, in \u001b[0;36m<cell line: 2>\u001b[1;34m()\u001b[0m\n\u001b[0;32m      1\u001b[0m service_request_df[\u001b[38;5;124m'\u001b[39m\u001b[38;5;124mCreated Date\u001b[39m\u001b[38;5;124m'\u001b[39m] \u001b[38;5;241m=\u001b[39m pd\u001b[38;5;241m.\u001b[39mto_datetime(service_request_df[\u001b[38;5;124m'\u001b[39m\u001b[38;5;124mCreated Date\u001b[39m\u001b[38;5;124m'\u001b[39m])\n\u001b[1;32m----> 2\u001b[0m service_request_df[\u001b[38;5;124m'\u001b[39m\u001b[38;5;124mResolution Action Updated Date\u001b[39m\u001b[38;5;124m'\u001b[39m] \u001b[38;5;241m=\u001b[39m \u001b[43mpd\u001b[49m\u001b[38;5;241;43m.\u001b[39;49m\u001b[43mto_datetime\u001b[49m\u001b[43m(\u001b[49m\u001b[43mservice_request_df\u001b[49m\u001b[43m[\u001b[49m\u001b[38;5;124;43m'\u001b[39;49m\u001b[38;5;124;43mResolution Action Updated Date\u001b[39;49m\u001b[38;5;124;43m'\u001b[39;49m\u001b[43m]\u001b[49m\u001b[43m)\u001b[49m\n\u001b[0;32m      3\u001b[0m service_request_df[\u001b[38;5;124m'\u001b[39m\u001b[38;5;124mRequest_Closing_Time\u001b[39m\u001b[38;5;124m'\u001b[39m] \u001b[38;5;241m=\u001b[39m service_request_df[\u001b[38;5;124m'\u001b[39m\u001b[38;5;124mCreated Date\u001b[39m\u001b[38;5;124m'\u001b[39m]\u001b[38;5;241m-\u001b[39mservice_request_df[\u001b[38;5;124m'\u001b[39m\u001b[38;5;124mResolution Action Updated Date\u001b[39m\u001b[38;5;124m'\u001b[39m]\n",
      "File \u001b[1;32m~\\anaconda3\\lib\\site-packages\\pandas\\core\\tools\\datetimes.py:1051\u001b[0m, in \u001b[0;36mto_datetime\u001b[1;34m(arg, errors, dayfirst, yearfirst, utc, format, exact, unit, infer_datetime_format, origin, cache)\u001b[0m\n\u001b[0;32m   1049\u001b[0m         result \u001b[38;5;241m=\u001b[39m arg\u001b[38;5;241m.\u001b[39mmap(cache_array)\n\u001b[0;32m   1050\u001b[0m     \u001b[38;5;28;01melse\u001b[39;00m:\n\u001b[1;32m-> 1051\u001b[0m         values \u001b[38;5;241m=\u001b[39m \u001b[43mconvert_listlike\u001b[49m\u001b[43m(\u001b[49m\u001b[43marg\u001b[49m\u001b[38;5;241;43m.\u001b[39;49m\u001b[43m_values\u001b[49m\u001b[43m,\u001b[49m\u001b[43m \u001b[49m\u001b[38;5;28;43mformat\u001b[39;49m\u001b[43m)\u001b[49m\n\u001b[0;32m   1052\u001b[0m         result \u001b[38;5;241m=\u001b[39m arg\u001b[38;5;241m.\u001b[39m_constructor(values, index\u001b[38;5;241m=\u001b[39marg\u001b[38;5;241m.\u001b[39mindex, name\u001b[38;5;241m=\u001b[39marg\u001b[38;5;241m.\u001b[39mname)\n\u001b[0;32m   1053\u001b[0m \u001b[38;5;28;01melif\u001b[39;00m \u001b[38;5;28misinstance\u001b[39m(arg, (ABCDataFrame, abc\u001b[38;5;241m.\u001b[39mMutableMapping)):\n",
      "File \u001b[1;32m~\\anaconda3\\lib\\site-packages\\pandas\\core\\tools\\datetimes.py:402\u001b[0m, in \u001b[0;36m_convert_listlike_datetimes\u001b[1;34m(arg, format, name, tz, unit, errors, infer_datetime_format, dayfirst, yearfirst, exact)\u001b[0m\n\u001b[0;32m    400\u001b[0m \u001b[38;5;28;01massert\u001b[39;00m \u001b[38;5;28mformat\u001b[39m \u001b[38;5;129;01mis\u001b[39;00m \u001b[38;5;28;01mNone\u001b[39;00m \u001b[38;5;129;01mor\u001b[39;00m infer_datetime_format\n\u001b[0;32m    401\u001b[0m utc \u001b[38;5;241m=\u001b[39m tz \u001b[38;5;241m==\u001b[39m \u001b[38;5;124m\"\u001b[39m\u001b[38;5;124mutc\u001b[39m\u001b[38;5;124m\"\u001b[39m\n\u001b[1;32m--> 402\u001b[0m result, tz_parsed \u001b[38;5;241m=\u001b[39m \u001b[43mobjects_to_datetime64ns\u001b[49m\u001b[43m(\u001b[49m\n\u001b[0;32m    403\u001b[0m \u001b[43m    \u001b[49m\u001b[43marg\u001b[49m\u001b[43m,\u001b[49m\n\u001b[0;32m    404\u001b[0m \u001b[43m    \u001b[49m\u001b[43mdayfirst\u001b[49m\u001b[38;5;241;43m=\u001b[39;49m\u001b[43mdayfirst\u001b[49m\u001b[43m,\u001b[49m\n\u001b[0;32m    405\u001b[0m \u001b[43m    \u001b[49m\u001b[43myearfirst\u001b[49m\u001b[38;5;241;43m=\u001b[39;49m\u001b[43myearfirst\u001b[49m\u001b[43m,\u001b[49m\n\u001b[0;32m    406\u001b[0m \u001b[43m    \u001b[49m\u001b[43mutc\u001b[49m\u001b[38;5;241;43m=\u001b[39;49m\u001b[43mutc\u001b[49m\u001b[43m,\u001b[49m\n\u001b[0;32m    407\u001b[0m \u001b[43m    \u001b[49m\u001b[43merrors\u001b[49m\u001b[38;5;241;43m=\u001b[39;49m\u001b[43merrors\u001b[49m\u001b[43m,\u001b[49m\n\u001b[0;32m    408\u001b[0m \u001b[43m    \u001b[49m\u001b[43mrequire_iso8601\u001b[49m\u001b[38;5;241;43m=\u001b[39;49m\u001b[43mrequire_iso8601\u001b[49m\u001b[43m,\u001b[49m\n\u001b[0;32m    409\u001b[0m \u001b[43m    \u001b[49m\u001b[43mallow_object\u001b[49m\u001b[38;5;241;43m=\u001b[39;49m\u001b[38;5;28;43;01mTrue\u001b[39;49;00m\u001b[43m,\u001b[49m\n\u001b[0;32m    410\u001b[0m \u001b[43m\u001b[49m\u001b[43m)\u001b[49m\n\u001b[0;32m    412\u001b[0m \u001b[38;5;28;01mif\u001b[39;00m tz_parsed \u001b[38;5;129;01mis\u001b[39;00m \u001b[38;5;129;01mnot\u001b[39;00m \u001b[38;5;28;01mNone\u001b[39;00m:\n\u001b[0;32m    413\u001b[0m     \u001b[38;5;66;03m# We can take a shortcut since the datetime64 numpy array\u001b[39;00m\n\u001b[0;32m    414\u001b[0m     \u001b[38;5;66;03m# is in UTC\u001b[39;00m\n\u001b[0;32m    415\u001b[0m     dta \u001b[38;5;241m=\u001b[39m DatetimeArray(result, dtype\u001b[38;5;241m=\u001b[39mtz_to_dtype(tz_parsed))\n",
      "File \u001b[1;32m~\\anaconda3\\lib\\site-packages\\pandas\\core\\arrays\\datetimes.py:2217\u001b[0m, in \u001b[0;36mobjects_to_datetime64ns\u001b[1;34m(data, dayfirst, yearfirst, utc, errors, require_iso8601, allow_object, allow_mixed)\u001b[0m\n\u001b[0;32m   2215\u001b[0m         \u001b[38;5;28;01mreturn\u001b[39;00m values\u001b[38;5;241m.\u001b[39mview(\u001b[38;5;124m\"\u001b[39m\u001b[38;5;124mi8\u001b[39m\u001b[38;5;124m\"\u001b[39m), tz_parsed\n\u001b[0;32m   2216\u001b[0m     \u001b[38;5;28;01mexcept\u001b[39;00m (\u001b[38;5;167;01mValueError\u001b[39;00m, \u001b[38;5;167;01mTypeError\u001b[39;00m):\n\u001b[1;32m-> 2217\u001b[0m         \u001b[38;5;28;01mraise\u001b[39;00m err\n\u001b[0;32m   2219\u001b[0m \u001b[38;5;28;01mif\u001b[39;00m tz_parsed \u001b[38;5;129;01mis\u001b[39;00m \u001b[38;5;129;01mnot\u001b[39;00m \u001b[38;5;28;01mNone\u001b[39;00m:\n\u001b[0;32m   2220\u001b[0m     \u001b[38;5;66;03m# We can take a shortcut since the datetime64 numpy array\u001b[39;00m\n\u001b[0;32m   2221\u001b[0m     \u001b[38;5;66;03m#  is in UTC\u001b[39;00m\n\u001b[0;32m   2222\u001b[0m     \u001b[38;5;66;03m# Return i8 values to denote unix timestamps\u001b[39;00m\n\u001b[0;32m   2223\u001b[0m     \u001b[38;5;28;01mreturn\u001b[39;00m result\u001b[38;5;241m.\u001b[39mview(\u001b[38;5;124m\"\u001b[39m\u001b[38;5;124mi8\u001b[39m\u001b[38;5;124m\"\u001b[39m), tz_parsed\n",
      "File \u001b[1;32m~\\anaconda3\\lib\\site-packages\\pandas\\core\\arrays\\datetimes.py:2199\u001b[0m, in \u001b[0;36mobjects_to_datetime64ns\u001b[1;34m(data, dayfirst, yearfirst, utc, errors, require_iso8601, allow_object, allow_mixed)\u001b[0m\n\u001b[0;32m   2197\u001b[0m order: Literal[\u001b[38;5;124m\"\u001b[39m\u001b[38;5;124mF\u001b[39m\u001b[38;5;124m\"\u001b[39m, \u001b[38;5;124m\"\u001b[39m\u001b[38;5;124mC\u001b[39m\u001b[38;5;124m\"\u001b[39m] \u001b[38;5;241m=\u001b[39m \u001b[38;5;124m\"\u001b[39m\u001b[38;5;124mF\u001b[39m\u001b[38;5;124m\"\u001b[39m \u001b[38;5;28;01mif\u001b[39;00m flags\u001b[38;5;241m.\u001b[39mf_contiguous \u001b[38;5;28;01melse\u001b[39;00m \u001b[38;5;124m\"\u001b[39m\u001b[38;5;124mC\u001b[39m\u001b[38;5;124m\"\u001b[39m\n\u001b[0;32m   2198\u001b[0m \u001b[38;5;28;01mtry\u001b[39;00m:\n\u001b[1;32m-> 2199\u001b[0m     result, tz_parsed \u001b[38;5;241m=\u001b[39m \u001b[43mtslib\u001b[49m\u001b[38;5;241;43m.\u001b[39;49m\u001b[43marray_to_datetime\u001b[49m\u001b[43m(\u001b[49m\n\u001b[0;32m   2200\u001b[0m \u001b[43m        \u001b[49m\u001b[43mdata\u001b[49m\u001b[38;5;241;43m.\u001b[39;49m\u001b[43mravel\u001b[49m\u001b[43m(\u001b[49m\u001b[38;5;124;43m\"\u001b[39;49m\u001b[38;5;124;43mK\u001b[39;49m\u001b[38;5;124;43m\"\u001b[39;49m\u001b[43m)\u001b[49m\u001b[43m,\u001b[49m\n\u001b[0;32m   2201\u001b[0m \u001b[43m        \u001b[49m\u001b[43merrors\u001b[49m\u001b[38;5;241;43m=\u001b[39;49m\u001b[43merrors\u001b[49m\u001b[43m,\u001b[49m\n\u001b[0;32m   2202\u001b[0m \u001b[43m        \u001b[49m\u001b[43mutc\u001b[49m\u001b[38;5;241;43m=\u001b[39;49m\u001b[43mutc\u001b[49m\u001b[43m,\u001b[49m\n\u001b[0;32m   2203\u001b[0m \u001b[43m        \u001b[49m\u001b[43mdayfirst\u001b[49m\u001b[38;5;241;43m=\u001b[39;49m\u001b[43mdayfirst\u001b[49m\u001b[43m,\u001b[49m\n\u001b[0;32m   2204\u001b[0m \u001b[43m        \u001b[49m\u001b[43myearfirst\u001b[49m\u001b[38;5;241;43m=\u001b[39;49m\u001b[43myearfirst\u001b[49m\u001b[43m,\u001b[49m\n\u001b[0;32m   2205\u001b[0m \u001b[43m        \u001b[49m\u001b[43mrequire_iso8601\u001b[49m\u001b[38;5;241;43m=\u001b[39;49m\u001b[43mrequire_iso8601\u001b[49m\u001b[43m,\u001b[49m\n\u001b[0;32m   2206\u001b[0m \u001b[43m        \u001b[49m\u001b[43mallow_mixed\u001b[49m\u001b[38;5;241;43m=\u001b[39;49m\u001b[43mallow_mixed\u001b[49m\u001b[43m,\u001b[49m\n\u001b[0;32m   2207\u001b[0m \u001b[43m    \u001b[49m\u001b[43m)\u001b[49m\n\u001b[0;32m   2208\u001b[0m     result \u001b[38;5;241m=\u001b[39m result\u001b[38;5;241m.\u001b[39mreshape(data\u001b[38;5;241m.\u001b[39mshape, order\u001b[38;5;241m=\u001b[39morder)\n\u001b[0;32m   2209\u001b[0m \u001b[38;5;28;01mexcept\u001b[39;00m \u001b[38;5;167;01mValueError\u001b[39;00m \u001b[38;5;28;01mas\u001b[39;00m err:\n",
      "File \u001b[1;32m~\\anaconda3\\lib\\site-packages\\pandas\\_libs\\tslib.pyx:381\u001b[0m, in \u001b[0;36mpandas._libs.tslib.array_to_datetime\u001b[1;34m()\u001b[0m\n",
      "File \u001b[1;32m~\\anaconda3\\lib\\site-packages\\pandas\\_libs\\tslib.pyx:613\u001b[0m, in \u001b[0;36mpandas._libs.tslib.array_to_datetime\u001b[1;34m()\u001b[0m\n",
      "File \u001b[1;32m~\\anaconda3\\lib\\site-packages\\pandas\\_libs\\tslib.pyx:751\u001b[0m, in \u001b[0;36mpandas._libs.tslib._array_to_datetime_object\u001b[1;34m()\u001b[0m\n",
      "File \u001b[1;32m~\\anaconda3\\lib\\site-packages\\pandas\\_libs\\tslib.pyx:742\u001b[0m, in \u001b[0;36mpandas._libs.tslib._array_to_datetime_object\u001b[1;34m()\u001b[0m\n",
      "File \u001b[1;32m~\\anaconda3\\lib\\site-packages\\pandas\\_libs\\tslibs\\parsing.pyx:281\u001b[0m, in \u001b[0;36mpandas._libs.tslibs.parsing.parse_datetime_string\u001b[1;34m()\u001b[0m\n",
      "File \u001b[1;32m~\\anaconda3\\lib\\site-packages\\dateutil\\parser\\_parser.py:1368\u001b[0m, in \u001b[0;36mparse\u001b[1;34m(timestr, parserinfo, **kwargs)\u001b[0m\n\u001b[0;32m   1366\u001b[0m     \u001b[38;5;28;01mreturn\u001b[39;00m parser(parserinfo)\u001b[38;5;241m.\u001b[39mparse(timestr, \u001b[38;5;241m*\u001b[39m\u001b[38;5;241m*\u001b[39mkwargs)\n\u001b[0;32m   1367\u001b[0m \u001b[38;5;28;01melse\u001b[39;00m:\n\u001b[1;32m-> 1368\u001b[0m     \u001b[38;5;28;01mreturn\u001b[39;00m DEFAULTPARSER\u001b[38;5;241m.\u001b[39mparse(timestr, \u001b[38;5;241m*\u001b[39m\u001b[38;5;241m*\u001b[39mkwargs)\n",
      "File \u001b[1;32m~\\anaconda3\\lib\\site-packages\\dateutil\\parser\\_parser.py:643\u001b[0m, in \u001b[0;36mparser.parse\u001b[1;34m(self, timestr, default, ignoretz, tzinfos, **kwargs)\u001b[0m\n\u001b[0;32m    640\u001b[0m res, skipped_tokens \u001b[38;5;241m=\u001b[39m \u001b[38;5;28mself\u001b[39m\u001b[38;5;241m.\u001b[39m_parse(timestr, \u001b[38;5;241m*\u001b[39m\u001b[38;5;241m*\u001b[39mkwargs)\n\u001b[0;32m    642\u001b[0m \u001b[38;5;28;01mif\u001b[39;00m res \u001b[38;5;129;01mis\u001b[39;00m \u001b[38;5;28;01mNone\u001b[39;00m:\n\u001b[1;32m--> 643\u001b[0m     \u001b[38;5;28;01mraise\u001b[39;00m ParserError(\u001b[38;5;124m\"\u001b[39m\u001b[38;5;124mUnknown string format: \u001b[39m\u001b[38;5;132;01m%s\u001b[39;00m\u001b[38;5;124m\"\u001b[39m, timestr)\n\u001b[0;32m    645\u001b[0m \u001b[38;5;28;01mif\u001b[39;00m \u001b[38;5;28mlen\u001b[39m(res) \u001b[38;5;241m==\u001b[39m \u001b[38;5;241m0\u001b[39m:\n\u001b[0;32m    646\u001b[0m     \u001b[38;5;28;01mraise\u001b[39;00m ParserError(\u001b[38;5;124m\"\u001b[39m\u001b[38;5;124mString does not contain a date: \u001b[39m\u001b[38;5;132;01m%s\u001b[39;00m\u001b[38;5;124m\"\u001b[39m, timestr)\n",
      "\u001b[1;31mParserError\u001b[0m: Unknown string format: no info"
     ]
    }
   ],
   "source": [
    "service_request_df['Created Date'] = pd.to_datetime(service_request_df['Created Date'])\n",
    "service_request_df['Resolution Action Updated Date'] = pd.to_datetime(service_request_df['Resolution Action Updated Date'])\n",
    "service_request_df['Request_Closing_Time'] = service_request_df['Created Date']-service_request_df['Resolution Action Updated Date']"
   ]
  },
  {
   "cell_type": "markdown",
   "id": "4eb0a80b",
   "metadata": {},
   "source": [
    "## 6. Identify significant variables by performing a statistical analysis using p-values and chi-square values (Optional)"
   ]
  },
  {
   "cell_type": "markdown",
   "id": "20ab2f11",
   "metadata": {},
   "source": [
    "MUltiple attempts but not able to clear through need some guidance"
   ]
  },
  {
   "cell_type": "code",
   "execution_count": null,
   "id": "f1f79a8a",
   "metadata": {},
   "outputs": [],
   "source": []
  }
 ],
 "metadata": {
  "kernelspec": {
   "display_name": "Python 3 (ipykernel)",
   "language": "python",
   "name": "python3"
  },
  "language_info": {
   "codemirror_mode": {
    "name": "ipython",
    "version": 3
   },
   "file_extension": ".py",
   "mimetype": "text/x-python",
   "name": "python",
   "nbconvert_exporter": "python",
   "pygments_lexer": "ipython3",
   "version": "3.9.13"
  },
  "toc": {
   "base_numbering": 1,
   "nav_menu": {
    "height": "349.983px",
    "width": "262px"
   },
   "number_sections": true,
   "sideBar": true,
   "skip_h1_title": false,
   "title_cell": "Table of Contents",
   "title_sidebar": "Contents",
   "toc_cell": false,
   "toc_position": {
    "height": "calc(100% - 180px)",
    "left": "10px",
    "top": "150px",
    "width": "302.467px"
   },
   "toc_section_display": true,
   "toc_window_display": true
  },
  "varInspector": {
   "cols": {
    "lenName": 16,
    "lenType": 16,
    "lenVar": 40
   },
   "kernels_config": {
    "python": {
     "delete_cmd_postfix": "",
     "delete_cmd_prefix": "del ",
     "library": "var_list.py",
     "varRefreshCmd": "print(var_dic_list())"
    },
    "r": {
     "delete_cmd_postfix": ") ",
     "delete_cmd_prefix": "rm(",
     "library": "var_list.r",
     "varRefreshCmd": "cat(var_dic_list()) "
    }
   },
   "types_to_exclude": [
    "module",
    "function",
    "builtin_function_or_method",
    "instance",
    "_Feature"
   ],
   "window_display": false
  }
 },
 "nbformat": 4,
 "nbformat_minor": 5
}
